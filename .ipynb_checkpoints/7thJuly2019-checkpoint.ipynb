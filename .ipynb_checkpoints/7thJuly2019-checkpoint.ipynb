{
 "cells": [
  {
   "cell_type": "code",
   "execution_count": 6,
   "metadata": {},
   "outputs": [],
   "source": [
    "albums=[]"
   ]
  },
  {
   "cell_type": "code",
   "execution_count": 7,
   "metadata": {},
   "outputs": [],
   "source": [
    "def make_album(artistName, albumTitle):\n",
    "    return {\"artist\":artistName,\"album\":albumTitle}"
   ]
  },
  {
   "cell_type": "code",
   "execution_count": 18,
   "metadata": {},
   "outputs": [],
   "source": [
    "albums.append(make_album(\"ArifLohar\",\"Chimti\"))\n",
    "albums.append(make_album(\"atifaslam\", \"yadien\"))"
   ]
  },
  {
   "cell_type": "code",
   "execution_count": 19,
   "metadata": {},
   "outputs": [
    {
     "data": {
      "text/plain": [
       "[{'artist': 'ArifLohar', 'album': 'Chimti'},\n",
       " {'artist': 'atifaslam', 'album': 'yadien'},\n",
       " {'artist': 'ArifLohar', 'album': 'Chimti'},\n",
       " {'artist': 'atifaslam', 'album': 'yadien'},\n",
       " {'artist': 'ArifLohar', 'album': 'Chimti'},\n",
       " {'artist': 'atifaslam', 'album': 'yadien'},\n",
       " {'artist': 'ArifLohar', 'album': 'Chimti'},\n",
       " {'artist': 'atifaslam', 'album': 'yadien'},\n",
       " {'artist': 'ArifLohar', 'album': 'Chimti'},\n",
       " {'artist': 'atifaslam', 'album': 'yadien'}]"
      ]
     },
     "execution_count": 19,
     "metadata": {},
     "output_type": "execute_result"
    }
   ],
   "source": [
    "albums"
   ]
  },
  {
   "cell_type": "code",
   "execution_count": 20,
   "metadata": {},
   "outputs": [
    {
     "name": "stdout",
     "output_type": "stream",
     "text": [
      "0\n",
      "1\n",
      "2\n",
      "3\n",
      "4\n",
      "5\n",
      "6\n",
      "7\n",
      "8\n",
      "9\n"
     ]
    }
   ],
   "source": [
    "for i in range(10):\n",
    "    print(i)"
   ]
  },
  {
   "cell_type": "code",
   "execution_count": null,
   "metadata": {},
   "outputs": [],
   "source": [
    "var = 0\n",
    "while var < 10:\n",
    "    print(var)\n",
    "    var += 1\n"
   ]
  },
  {
   "cell_type": "code",
   "execution_count": 1,
   "metadata": {},
   "outputs": [
    {
     "name": "stdout",
     "output_type": "stream",
     "text": [
      "0\n",
      "1\n",
      "2\n",
      "3\n",
      "4\n",
      "5\n",
      "6\n",
      "7\n",
      "8\n",
      "9\n"
     ]
    }
   ],
   "source": [
    "var = 0\n",
    "while var < 10:\n",
    "    print(var)\n",
    "    var += 1"
   ]
  },
  {
   "cell_type": "code",
   "execution_count": 2,
   "metadata": {},
   "outputs": [
    {
     "name": "stdout",
     "output_type": "stream",
     "text": [
      "Enter the itemmango\n",
      "Enter the itemapple\n",
      "Enter the itemq\n",
      "['mango', 'apple']\n"
     ]
    }
   ],
   "source": [
    "cart = []\n",
    "flag = True\n",
    "while flag:\n",
    "    items = input(\"Enter the item\")\n",
    "    if items == 'q':\n",
    "        flag = False\n",
    "    else:\n",
    "        cart.append(items)\n",
    "print(cart)"
   ]
  },
  {
   "cell_type": "code",
   "execution_count": 3,
   "metadata": {},
   "outputs": [
    {
     "name": "stdout",
     "output_type": "stream",
     "text": [
      "Enter the itemsoap\n",
      "Enter the itemshampoo\n",
      "Enter the itemq\n",
      "['soap', 'shampoo']\n"
     ]
    }
   ],
   "source": [
    "cart = []\n",
    "flag = True\n",
    "while flag:\n",
    "    items = input(\"Enter the item\")\n",
    "    if items == 'q':\n",
    "        flag = False\n",
    "        break\n",
    "    cart.append(items)\n",
    "print(cart)"
   ]
  },
  {
   "cell_type": "code",
   "execution_count": 10,
   "metadata": {},
   "outputs": [],
   "source": [
    "class Mobile():\n",
    "    def __init__(self, color, screen_size, battery_duration, brand):\n",
    "        self.color = color\n",
    "        self.screen_size = screen_size\n",
    "        self.battery_duration = battery_duration\n",
    "        self.brand = brand\n",
    "        \n",
    "    def receive_call(self):\n",
    "        print(f\"Call is Received Now on {self.brand}\")\n",
    "    \n",
    "    def dial_call(self):\n",
    "        print(f\"Call is Dialed Now on {self.brand}\")\n",
    "    \n",
    "    def write_message(self):\n",
    "        print(f\"Message has been Written on {self.brand}\")\n",
    "    \n",
    "    def read_message(self):\n",
    "        print(f\"Message has been Read on {self.brand}\") \n",
    "    \n",
    "    def send_message(self):\n",
    "        print(f\"Message is Sent on {self.brand}\")\n",
    "    \n",
    "    def play_game(self):\n",
    "        print(f\"Game is Launched on {self.brand}\")"
   ]
  },
  {
   "cell_type": "code",
   "execution_count": 11,
   "metadata": {},
   "outputs": [],
   "source": [
    "mobile1 = Mobile(\"Black\", \"5 inch\", \"8 hours\", \"Nokia\")"
   ]
  },
  {
   "cell_type": "code",
   "execution_count": 12,
   "metadata": {},
   "outputs": [
    {
     "data": {
      "text/plain": [
       "'8 hours'"
      ]
     },
     "execution_count": 12,
     "metadata": {},
     "output_type": "execute_result"
    }
   ],
   "source": [
    "mobile1.battery_duration"
   ]
  },
  {
   "cell_type": "code",
   "execution_count": 13,
   "metadata": {},
   "outputs": [
    {
     "data": {
      "text/plain": [
       "'Nokia'"
      ]
     },
     "execution_count": 13,
     "metadata": {},
     "output_type": "execute_result"
    }
   ],
   "source": [
    "mobile1.brand"
   ]
  },
  {
   "cell_type": "code",
   "execution_count": 22,
   "metadata": {},
   "outputs": [
    {
     "data": {
      "text/plain": [
       "'Black'"
      ]
     },
     "execution_count": 22,
     "metadata": {},
     "output_type": "execute_result"
    }
   ],
   "source": [
    "mobile1.color"
   ]
  },
  {
   "cell_type": "code",
   "execution_count": 15,
   "metadata": {},
   "outputs": [
    {
     "data": {
      "text/plain": [
       "'5 inch'"
      ]
     },
     "execution_count": 15,
     "metadata": {},
     "output_type": "execute_result"
    }
   ],
   "source": [
    "mobile1.screen_size"
   ]
  },
  {
   "cell_type": "code",
   "execution_count": 17,
   "metadata": {},
   "outputs": [],
   "source": [
    "mobile2 = Mobile(\"White\", \"6 Inch\", \"12 Hours\", \"Samsung\")"
   ]
  },
  {
   "cell_type": "code",
   "execution_count": 18,
   "metadata": {},
   "outputs": [
    {
     "data": {
      "text/plain": [
       "'12 Hours'"
      ]
     },
     "execution_count": 18,
     "metadata": {},
     "output_type": "execute_result"
    }
   ],
   "source": [
    "mobile2.battery_duration"
   ]
  },
  {
   "cell_type": "code",
   "execution_count": 19,
   "metadata": {},
   "outputs": [
    {
     "data": {
      "text/plain": [
       "'Samsung'"
      ]
     },
     "execution_count": 19,
     "metadata": {},
     "output_type": "execute_result"
    }
   ],
   "source": [
    "mobile2.brand"
   ]
  },
  {
   "cell_type": "code",
   "execution_count": 20,
   "metadata": {},
   "outputs": [
    {
     "data": {
      "text/plain": [
       "'White'"
      ]
     },
     "execution_count": 20,
     "metadata": {},
     "output_type": "execute_result"
    }
   ],
   "source": [
    "mobile2.color"
   ]
  },
  {
   "cell_type": "code",
   "execution_count": 21,
   "metadata": {},
   "outputs": [
    {
     "data": {
      "text/plain": [
       "'6 Inch'"
      ]
     },
     "execution_count": 21,
     "metadata": {},
     "output_type": "execute_result"
    }
   ],
   "source": [
    "mobile2.screen_size"
   ]
  },
  {
   "cell_type": "code",
   "execution_count": 23,
   "metadata": {},
   "outputs": [
    {
     "name": "stdout",
     "output_type": "stream",
     "text": [
      "Game is Launched on Nokia\n"
     ]
    }
   ],
   "source": [
    "mobile1.play_game()"
   ]
  },
  {
   "cell_type": "code",
   "execution_count": 24,
   "metadata": {},
   "outputs": [
    {
     "name": "stdout",
     "output_type": "stream",
     "text": [
      "Game is Launched on Samsung\n"
     ]
    }
   ],
   "source": [
    "mobile2.play_game()"
   ]
  },
  {
   "cell_type": "code",
   "execution_count": 39,
   "metadata": {},
   "outputs": [],
   "source": [
    "class Mobile():\n",
    "    def __init__(self, color, battery_duration, brand):\n",
    "        self.color = color\n",
    "        self.battery_duration = battery_duration\n",
    "        self.brand = brand\n",
    "        self.price = 0\n",
    "    def receive_call(self):\n",
    "        print(f\"Call is Received Now on {self.brand}\")    \n",
    "    def dial_call(self):\n",
    "        print(f\"Call is Dialed Now on {self.brand}\")    \n",
    "    def getPrice(self):\n",
    "        print(f\"{self.brand} price is: {self.price}\")    \n",
    "    def setPrice(self, newPrice):\n",
    "        self.price =newPrice        "
   ]
  },
  {
   "cell_type": "code",
   "execution_count": 40,
   "metadata": {},
   "outputs": [],
   "source": [
    "m1 = Mobile(\"Silver\",\"2H\", \"OPPO\")\n",
    "m11 = Mobile(\"Silver\",\"2H\", \"VEVO\")"
   ]
  },
  {
   "cell_type": "code",
   "execution_count": 42,
   "metadata": {},
   "outputs": [],
   "source": [
    "m1.price = 100"
   ]
  },
  {
   "cell_type": "code",
   "execution_count": 43,
   "metadata": {},
   "outputs": [
    {
     "data": {
      "text/plain": [
       "100"
      ]
     },
     "execution_count": 43,
     "metadata": {},
     "output_type": "execute_result"
    }
   ],
   "source": [
    "m1.price"
   ]
  },
  {
   "cell_type": "code",
   "execution_count": 44,
   "metadata": {},
   "outputs": [
    {
     "data": {
      "text/plain": [
       "0"
      ]
     },
     "execution_count": 44,
     "metadata": {},
     "output_type": "execute_result"
    }
   ],
   "source": [
    "m11.price"
   ]
  },
  {
   "cell_type": "code",
   "execution_count": 45,
   "metadata": {},
   "outputs": [
    {
     "name": "stdout",
     "output_type": "stream",
     "text": [
      "VEVO price is: 1000\n"
     ]
    }
   ],
   "source": [
    "m11.setPrice(1000)\n",
    "m11.getPrice()"
   ]
  },
  {
   "cell_type": "code",
   "execution_count": 46,
   "metadata": {},
   "outputs": [
    {
     "name": "stdout",
     "output_type": "stream",
     "text": [
      "OPPO price is: 100\n"
     ]
    }
   ],
   "source": [
    "m1.getPrice()"
   ]
  },
  {
   "cell_type": "code",
   "execution_count": 47,
   "metadata": {},
   "outputs": [],
   "source": [
    "m1.setPrice(5000)"
   ]
  },
  {
   "cell_type": "code",
   "execution_count": 48,
   "metadata": {},
   "outputs": [
    {
     "name": "stdout",
     "output_type": "stream",
     "text": [
      "OPPO price is: 5000\n"
     ]
    }
   ],
   "source": [
    "m1.getPrice()"
   ]
  },
  {
   "cell_type": "code",
   "execution_count": null,
   "metadata": {},
   "outputs": [],
   "source": []
  }
 ],
 "metadata": {
  "kernelspec": {
   "display_name": "Python 3",
   "language": "python",
   "name": "python3"
  },
  "language_info": {
   "codemirror_mode": {
    "name": "ipython",
    "version": 3
   },
   "file_extension": ".py",
   "mimetype": "text/x-python",
   "name": "python",
   "nbconvert_exporter": "python",
   "pygments_lexer": "ipython3",
   "version": "3.7.1"
  }
 },
 "nbformat": 4,
 "nbformat_minor": 2
}

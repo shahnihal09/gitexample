{
 "cells": [
  {
   "cell_type": "markdown",
   "metadata": {},
   "source": [
    "# Positional parameter"
   ]
  },
  {
   "cell_type": "code",
   "execution_count": 2,
   "metadata": {},
   "outputs": [],
   "source": [
    "def name():\n",
    "    print(\"My name is Shahzad\")"
   ]
  },
  {
   "cell_type": "code",
   "execution_count": 3,
   "metadata": {},
   "outputs": [
    {
     "name": "stdout",
     "output_type": "stream",
     "text": [
      "My name is Shahzad\n"
     ]
    }
   ],
   "source": [
    "name()"
   ]
  },
  {
   "cell_type": "code",
   "execution_count": 4,
   "metadata": {},
   "outputs": [],
   "source": [
    "def add(a,b):\n",
    "    print(a+b)\n",
    "    "
   ]
  },
  {
   "cell_type": "code",
   "execution_count": 11,
   "metadata": {},
   "outputs": [
    {
     "name": "stdout",
     "output_type": "stream",
     "text": [
      "11\n"
     ]
    }
   ],
   "source": [
    "add(2,9)"
   ]
  },
  {
   "cell_type": "code",
   "execution_count": 14,
   "metadata": {},
   "outputs": [],
   "source": [
    "def fullname(f_name , m_name , l_name):\n",
    "    full_name = f_name +\" \"+ m_name +\" \"+ l_name\n",
    "    return full_name\n",
    "    "
   ]
  },
  {
   "cell_type": "code",
   "execution_count": 18,
   "metadata": {},
   "outputs": [
    {
     "data": {
      "text/plain": [
       "'shahzad Ahsan Muhammad'"
      ]
     },
     "execution_count": 18,
     "metadata": {},
     "output_type": "execute_result"
    }
   ],
   "source": [
    "ab = fullname(\"shahzad\", 'Ahsan', \"Muhammad\")\n",
    "ab"
   ]
  },
  {
   "cell_type": "markdown",
   "metadata": {},
   "source": [
    "# keyword argument"
   ]
  },
  {
   "cell_type": "code",
   "execution_count": 20,
   "metadata": {},
   "outputs": [
    {
     "data": {
      "text/plain": [
       "'Muhammad Shazhad Ahsan'"
      ]
     },
     "execution_count": 20,
     "metadata": {},
     "output_type": "execute_result"
    }
   ],
   "source": [
    "ac = fullname(l_name = \"Ahsan\" , f_name = \"Muhammad\" , m_name = \"Shazhad\")\n",
    "ac"
   ]
  },
  {
   "cell_type": "markdown",
   "metadata": {},
   "source": [
    "# Default parameter"
   ]
  },
  {
   "cell_type": "markdown",
   "metadata": {},
   "source": [
    "# Default parameter"
   ]
  },
  {
   "cell_type": "code",
   "execution_count": 49,
   "metadata": {},
   "outputs": [],
   "source": [
    "def person(name , age , gender = ' ' , city =' karachi'):\n",
    "    print(f\"my name is {name}.\")\n",
    "    print(f\"My age is {age}.\")\n",
    "    print(f\"My gender is {gender}.\")\n",
    "    print(f\"I live in {city}.\")"
   ]
  },
  {
   "cell_type": "code",
   "execution_count": 50,
   "metadata": {},
   "outputs": [
    {
     "name": "stdout",
     "output_type": "stream",
     "text": [
      "my name is Shazad.\n",
      "My age is 21.\n",
      "My gender is  .\n",
      "I live in Lahore.\n"
     ]
    }
   ],
   "source": [
    "person(\"Shazad\" , 21 , city = 'Lahore')"
   ]
  },
  {
   "cell_type": "code",
   "execution_count": 27,
   "metadata": {},
   "outputs": [
    {
     "name": "stdout",
     "output_type": "stream",
     "text": [
      "my name is Shazad.\n",
      "My age is 21.\n",
      "My gender is Male.\n",
      "I live in  karachi.\n"
     ]
    }
   ],
   "source": [
    "person(\"Shazad\" , 21 )"
   ]
  },
  {
   "cell_type": "code",
   "execution_count": 30,
   "metadata": {},
   "outputs": [],
   "source": [
    "def shop(total_bill , discount = 30):\n",
    "    amount = total_bill*discount / 100\n",
    "    return amount"
   ]
  },
  {
   "cell_type": "code",
   "execution_count": 31,
   "metadata": {},
   "outputs": [
    {
     "data": {
      "text/plain": [
       "1500.0"
      ]
     },
     "execution_count": 31,
     "metadata": {},
     "output_type": "execute_result"
    }
   ],
   "source": [
    "a12 = shop(5000)\n",
    "a12"
   ]
  },
  {
   "cell_type": "code",
   "execution_count": 33,
   "metadata": {},
   "outputs": [
    {
     "data": {
      "text/plain": [
       "900.0"
      ]
     },
     "execution_count": 33,
     "metadata": {},
     "output_type": "execute_result"
    }
   ],
   "source": [
    "b=shop(3000 , discount = 30)\n",
    "b"
   ]
  },
  {
   "cell_type": "code",
   "execution_count": 39,
   "metadata": {},
   "outputs": [],
   "source": [
    "def shop(total_bill , discount = 50):\n",
    "    amount = total_bill*discount / 100\n",
    "    return amount"
   ]
  },
  {
   "cell_type": "code",
   "execution_count": 42,
   "metadata": {},
   "outputs": [
    {
     "name": "stdout",
     "output_type": "stream",
     "text": [
      "Enter your total amount: 12.4567789\n",
      "Your total bill after applying discout is 6.22838945.\n"
     ]
    }
   ],
   "source": [
    "userBill = float(input(\"Enter your total amount: \")) \n",
    "bb = shop(userBill)\n",
    "print(f\"Your total bill after applying discout is {userBill - bb}.\")"
   ]
  },
  {
   "cell_type": "code",
   "execution_count": 44,
   "metadata": {},
   "outputs": [],
   "source": [
    "def pizza(size , *toppings):\n",
    "    print(f\"Your pizza size is {size}.\")\n",
    "    print(toppings)\n",
    "    "
   ]
  },
  {
   "cell_type": "code",
   "execution_count": 45,
   "metadata": {},
   "outputs": [
    {
     "name": "stdout",
     "output_type": "stream",
     "text": [
      "Your pizza size is Extra large.\n",
      "('Cheese',)\n"
     ]
    }
   ],
   "source": [
    "pizza('Extra large' , 'Cheese')"
   ]
  },
  {
   "cell_type": "code",
   "execution_count": 46,
   "metadata": {},
   "outputs": [
    {
     "name": "stdout",
     "output_type": "stream",
     "text": [
      "Your pizza size is Extra large.\n",
      "('Cheese', 'fajita', 'Olive')\n"
     ]
    }
   ],
   "source": [
    "pizza('Extra large' , 'Cheese' , \"fajita\" , 'Olive')"
   ]
  },
  {
   "cell_type": "code",
   "execution_count": 47,
   "metadata": {},
   "outputs": [],
   "source": [
    "def pizza(size , *flavours):\n",
    "    print(f\"Your pizza size is {size}.\")\n",
    "    for flavour in flavours:\n",
    "        print(\"You have added :\" + flavour)\n",
    "    "
   ]
  },
  {
   "cell_type": "code",
   "execution_count": 48,
   "metadata": {},
   "outputs": [
    {
     "name": "stdout",
     "output_type": "stream",
     "text": [
      "Your pizza size is small.\n",
      "You have added :cheese\n",
      "You have added :mashrooms\n"
     ]
    }
   ],
   "source": [
    "pizza('small' , 'cheese' , 'mashrooms')\n"
   ]
  },
  {
   "cell_type": "code",
   "execution_count": 54,
   "metadata": {},
   "outputs": [],
   "source": [
    "def info(name , email , cnic , **others_info):\n",
    "    print(f\"My name is {name}.\")\n",
    "    print(f\"My email address is {email}\")\n",
    "    print(f\"My cnic is {cnic}\")\n",
    "    print(f\"My others infop are: {others_info}.\")\n",
    "    \n",
    "    "
   ]
  },
  {
   "cell_type": "code",
   "execution_count": 55,
   "metadata": {},
   "outputs": [
    {
     "name": "stdout",
     "output_type": "stream",
     "text": [
      "My name is Hamza.\n",
      "My email address is abc@gmail.com\n",
      "My cnic is 423-98-8\n",
      "My others infop are: {'location': 'karachi', 'gender': 'male', 'phone': 565656}.\n"
     ]
    }
   ],
   "source": [
    "info(\"Hamza\" , \"abc@gmail.com\" , \"423-98-8\" , location = 'karachi' , gender = \"male\" , phone = 565656) "
   ]
  },
  {
   "cell_type": "code",
   "execution_count": 63,
   "metadata": {},
   "outputs": [],
   "source": [
    "def info(name , email , cnic , **others_info):\n",
    "    print(f\"My name is {name}.\")\n",
    "    print(f\"My email address is {email}\")\n",
    "    print(f\"My cnic is {cnic}\")\n",
    "    for key , value in others_info.items():\n",
    "        print(key , \":\", value)\n",
    "    "
   ]
  },
  {
   "cell_type": "code",
   "execution_count": 64,
   "metadata": {},
   "outputs": [
    {
     "name": "stdout",
     "output_type": "stream",
     "text": [
      "My name is Hamza.\n",
      "My email address is abc@gmail.com\n",
      "My cnic is 423-98-8\n",
      "location : karachi\n",
      "gender : male\n",
      "phone : 565656\n"
     ]
    }
   ],
   "source": [
    "info(\"Hamza\" , \"abc@gmail.com\" , \"423-98-8\" , location = 'karachi' , gender = \"male\" , phone = 565656) "
   ]
  },
  {
   "cell_type": "markdown",
   "metadata": {},
   "source": [
    "\n",
    "# local and Global"
   ]
  },
  {
   "cell_type": "code",
   "execution_count": 13,
   "metadata": {},
   "outputs": [
    {
     "name": "stdout",
     "output_type": "stream",
     "text": [
      "9898\n"
     ]
    }
   ],
   "source": [
    "salary = 90\n",
    "def piaic():\n",
    "    global salary\n",
    "    salary = 9898\n",
    "    print(salary)\n",
    "piaic()\n"
   ]
  },
  {
   "cell_type": "code",
   "execution_count": 14,
   "metadata": {},
   "outputs": [
    {
     "name": "stdout",
     "output_type": "stream",
     "text": [
      "9898\n"
     ]
    }
   ],
   "source": [
    "print(salary)"
   ]
  },
  {
   "cell_type": "code",
   "execution_count": 1,
   "metadata": {},
   "outputs": [],
   "source": [
    "#Test"
   ]
  },
  {
   "cell_type": "code",
   "execution_count": 11,
   "metadata": {},
   "outputs": [],
   "source": [
    "def make_album(artistName, albumTitle):\n",
    "    return {\"artist\":artistName,\"album\":albumTitle}"
   ]
  },
  {
   "cell_type": "code",
   "execution_count": 12,
   "metadata": {},
   "outputs": [],
   "source": [
    "album1 = make_album(\"ArifLohar\",\"Chimti\")\n",
    "album2 = make_album(\"atifaslam\",\"yadien\")"
   ]
  },
  {
   "cell_type": "code",
   "execution_count": 13,
   "metadata": {},
   "outputs": [
    {
     "name": "stdout",
     "output_type": "stream",
     "text": [
      "{'artist': 'ArifLohar', 'album': 'Chimti'}\n",
      "{'artist': 'atifaslam', 'album': 'yadien'}\n"
     ]
    }
   ],
   "source": [
    "print(album1)\n",
    "print(album2)"
   ]
  },
  {
   "cell_type": "code",
   "execution_count": null,
   "metadata": {},
   "outputs": [],
   "source": []
  },
  {
   "cell_type": "code",
   "execution_count": null,
   "metadata": {},
   "outputs": [],
   "source": []
  },
  {
   "cell_type": "code",
   "execution_count": null,
   "metadata": {},
   "outputs": [],
   "source": []
  }
 ],
 "metadata": {
  "kernelspec": {
   "display_name": "Python 3",
   "language": "python",
   "name": "python3"
  },
  "language_info": {
   "codemirror_mode": {
    "name": "ipython",
    "version": 3
   },
   "file_extension": ".py",
   "mimetype": "text/x-python",
   "name": "python",
   "nbconvert_exporter": "python",
   "pygments_lexer": "ipython3",
   "version": "3.7.3"
  }
 },
 "nbformat": 4,
 "nbformat_minor": 2
}

{
 "cells": [
  {
   "cell_type": "code",
   "execution_count": 1,
   "metadata": {},
   "outputs": [],
   "source": [
    "city_0 = 'Karachi'\n",
    "city_1 = 'Lahore'\n",
    "city_2 = 'Islamabad'\n",
    "\n",
    "#list \n",
    "\n",
    "cities = ['Karachi','Lahore','Islamabad']"
   ]
  },
  {
   "cell_type": "code",
   "execution_count": 2,
   "metadata": {},
   "outputs": [
    {
     "data": {
      "text/plain": [
       "['Karachi', 'Lahore', 'Islamabad']"
      ]
     },
     "execution_count": 2,
     "metadata": {},
     "output_type": "execute_result"
    }
   ],
   "source": [
    "cities"
   ]
  },
  {
   "cell_type": "code",
   "execution_count": 3,
   "metadata": {},
   "outputs": [
    {
     "data": {
      "text/plain": [
       "3"
      ]
     },
     "execution_count": 3,
     "metadata": {},
     "output_type": "execute_result"
    }
   ],
   "source": [
    "len(cities) # no. of members"
   ]
  },
  {
   "cell_type": "code",
   "execution_count": 4,
   "metadata": {},
   "outputs": [],
   "source": [
    "#indexing:\n",
    "cities = ['Karachi','Lahore','Islamabad']\n",
    "# index no : 0         1          2"
   ]
  },
  {
   "cell_type": "code",
   "execution_count": 5,
   "metadata": {},
   "outputs": [
    {
     "data": {
      "text/plain": [
       "'Karachi'"
      ]
     },
     "execution_count": 5,
     "metadata": {},
     "output_type": "execute_result"
    }
   ],
   "source": [
    "cities[0]"
   ]
  },
  {
   "cell_type": "code",
   "execution_count": 6,
   "metadata": {},
   "outputs": [
    {
     "ename": "IndexError",
     "evalue": "list index out of range",
     "output_type": "error",
     "traceback": [
      "\u001b[1;31m---------------------------------------------------------------------------\u001b[0m",
      "\u001b[1;31mIndexError\u001b[0m                                Traceback (most recent call last)",
      "\u001b[1;32m<ipython-input-6-cd8dc56dfbab>\u001b[0m in \u001b[0;36m<module>\u001b[1;34m\u001b[0m\n\u001b[1;32m----> 1\u001b[1;33m \u001b[0mcities\u001b[0m\u001b[1;33m[\u001b[0m\u001b[1;36m3\u001b[0m\u001b[1;33m]\u001b[0m\u001b[1;33m\u001b[0m\u001b[1;33m\u001b[0m\u001b[0m\n\u001b[0m",
      "\u001b[1;31mIndexError\u001b[0m: list index out of range"
     ]
    }
   ],
   "source": [
    "cities[3]"
   ]
  },
  {
   "cell_type": "code",
   "execution_count": null,
   "metadata": {},
   "outputs": [],
   "source": [
    "cities[2]"
   ]
  },
  {
   "cell_type": "code",
   "execution_count": null,
   "metadata": {},
   "outputs": [],
   "source": [
    "mix = ['str',7,5.0,True]\n",
    "mix"
   ]
  },
  {
   "cell_type": "code",
   "execution_count": null,
   "metadata": {},
   "outputs": [],
   "source": [
    "type(mix)"
   ]
  },
  {
   "cell_type": "code",
   "execution_count": null,
   "metadata": {},
   "outputs": [],
   "source": [
    "listinlist = [mix,cities]\n",
    "listinlist"
   ]
  },
  {
   "cell_type": "code",
   "execution_count": null,
   "metadata": {},
   "outputs": [],
   "source": [
    "listinlist[1][1]"
   ]
  },
  {
   "cell_type": "code",
   "execution_count": null,
   "metadata": {},
   "outputs": [],
   "source": [
    "listinlist[1][2]"
   ]
  },
  {
   "cell_type": "code",
   "execution_count": null,
   "metadata": {},
   "outputs": [],
   "source": [
    "#Small assignment\n",
    "#combinations\n",
    "#get 1st list's second item\n",
    "#get Karachi\n",
    "# get\n"
   ]
  },
  {
   "cell_type": "code",
   "execution_count": null,
   "metadata": {},
   "outputs": [],
   "source": [
    "mix"
   ]
  },
  {
   "cell_type": "code",
   "execution_count": null,
   "metadata": {},
   "outputs": [],
   "source": [
    "del mix[2]\n",
    "mix"
   ]
  },
  {
   "cell_type": "code",
   "execution_count": null,
   "metadata": {},
   "outputs": [],
   "source": [
    "mix[1]"
   ]
  },
  {
   "cell_type": "code",
   "execution_count": null,
   "metadata": {},
   "outputs": [],
   "source": [
    "mix.remove(7)\n",
    "mix"
   ]
  },
  {
   "cell_type": "code",
   "execution_count": null,
   "metadata": {},
   "outputs": [],
   "source": [
    "mix = ['str',8, 7,6.0,True,7]\n",
    "mix.remove(7)\n",
    "mix"
   ]
  },
  {
   "cell_type": "code",
   "execution_count": null,
   "metadata": {},
   "outputs": [],
   "source": [
    "#signature - function's defination\n",
    "\n",
    "# ShiFT + TAB"
   ]
  },
  {
   "cell_type": "code",
   "execution_count": null,
   "metadata": {},
   "outputs": [],
   "source": [
    "l1= ['a','b']"
   ]
  },
  {
   "cell_type": "code",
   "execution_count": null,
   "metadata": {},
   "outputs": [],
   "source": [
    "del l1[0]\n",
    "l1"
   ]
  },
  {
   "cell_type": "code",
   "execution_count": null,
   "metadata": {},
   "outputs": [],
   "source": [
    "l1"
   ]
  },
  {
   "cell_type": "code",
   "execution_count": null,
   "metadata": {},
   "outputs": [],
   "source": [
    "faculty = ['Hamza','Ali']"
   ]
  },
  {
   "cell_type": "code",
   "execution_count": null,
   "metadata": {},
   "outputs": [],
   "source": [
    "faculty.append('Shahzad')     # append adds the value from the very last"
   ]
  },
  {
   "cell_type": "code",
   "execution_count": null,
   "metadata": {},
   "outputs": [],
   "source": [
    "faculty"
   ]
  },
  {
   "cell_type": "code",
   "execution_count": null,
   "metadata": {},
   "outputs": [],
   "source": [
    "faculty.append('Mohsin')\n",
    "faculty"
   ]
  },
  {
   "cell_type": "code",
   "execution_count": null,
   "metadata": {},
   "outputs": [],
   "source": [
    "# To add a value with your will\n",
    "faculty.insert(0, 'Sir')\n",
    "faculty"
   ]
  },
  {
   "cell_type": "code",
   "execution_count": null,
   "metadata": {},
   "outputs": [],
   "source": [
    "del faculty[0]\n",
    "faculty"
   ]
  },
  {
   "cell_type": "code",
   "execution_count": null,
   "metadata": {},
   "outputs": [],
   "source": [
    "faculty.insert(16,74)\n",
    "faculty"
   ]
  },
  {
   "cell_type": "code",
   "execution_count": null,
   "metadata": {},
   "outputs": [],
   "source": [
    "faculty[2] = 'M. Ali'\n",
    "faculty"
   ]
  },
  {
   "cell_type": "code",
   "execution_count": null,
   "metadata": {},
   "outputs": [],
   "source": [
    "faculty.index('Hamza')       # to find a index of a particular member"
   ]
  },
  {
   "cell_type": "code",
   "execution_count": null,
   "metadata": {},
   "outputs": [],
   "source": [
    "numbers = [4,2,5,3,1]\n",
    "numbers.sort()\n",
    "numbers"
   ]
  },
  {
   "cell_type": "markdown",
   "metadata": {},
   "source": []
  },
  {
   "cell_type": "code",
   "execution_count": null,
   "metadata": {},
   "outputs": [],
   "source": [
    "numbers.sort(reverse=True)\n",
    "numbers"
   ]
  },
  {
   "cell_type": "code",
   "execution_count": null,
   "metadata": {},
   "outputs": [],
   "source": [
    "alphabet = ['a','d','b','c','z']\n",
    "alphabet.sort()"
   ]
  },
  {
   "cell_type": "code",
   "execution_count": null,
   "metadata": {},
   "outputs": [],
   "source": [
    "alphabet"
   ]
  },
  {
   "cell_type": "code",
   "execution_count": null,
   "metadata": {},
   "outputs": [],
   "source": [
    "alphabet.sort(reverse=True)\n",
    "alphabet"
   ]
  },
  {
   "cell_type": "code",
   "execution_count": 7,
   "metadata": {},
   "outputs": [
    {
     "ename": "NameError",
     "evalue": "name 'alphabet' is not defined",
     "output_type": "error",
     "traceback": [
      "\u001b[1;31m---------------------------------------------------------------------------\u001b[0m",
      "\u001b[1;31mNameError\u001b[0m                                 Traceback (most recent call last)",
      "\u001b[1;32m<ipython-input-7-70c0a81cef2c>\u001b[0m in \u001b[0;36m<module>\u001b[1;34m\u001b[0m\n\u001b[1;32m----> 1\u001b[1;33m \u001b[0malphabet\u001b[0m\u001b[1;33m.\u001b[0m\u001b[0msort\u001b[0m\u001b[1;33m(\u001b[0m\u001b[0mreverse\u001b[0m\u001b[1;33m=\u001b[0m\u001b[1;32mFalse\u001b[0m\u001b[1;33m)\u001b[0m\u001b[1;33m\u001b[0m\u001b[1;33m\u001b[0m\u001b[0m\n\u001b[0m\u001b[0;32m      2\u001b[0m \u001b[0malphabet\u001b[0m\u001b[1;33m\u001b[0m\u001b[1;33m\u001b[0m\u001b[0m\n",
      "\u001b[1;31mNameError\u001b[0m: name 'alphabet' is not defined"
     ]
    }
   ],
   "source": [
    "alphabet.sort(reverse=False)\n",
    "alphabet"
   ]
  },
  {
   "cell_type": "code",
   "execution_count": null,
   "metadata": {},
   "outputs": [],
   "source": [
    "mix2 = [1,3,5,'a',2,'c',4,'b']\n",
    "mix2.sort()"
   ]
  },
  {
   "cell_type": "code",
   "execution_count": null,
   "metadata": {},
   "outputs": [],
   "source": [
    "# to remove from one list and add it to other list\n",
    "l1 =['st1','st2','st3','st4']\n",
    "l=l1.pop()   # to dlete last element from list and hand add it to any  other vaariable\n",
    "l\n",
    "\n",
    "l=l1.pop(1)    \n",
    "l"
   ]
  },
  {
   "cell_type": "code",
   "execution_count": null,
   "metadata": {},
   "outputs": [],
   "source": []
  },
  {
   "cell_type": "markdown",
   "metadata": {},
   "source": [
    "\n",
    "# Slicing\n"
   ]
  },
  {
   "cell_type": "code",
   "execution_count": null,
   "metadata": {},
   "outputs": [],
   "source": [
    "numbers = [1,2,3,4,5,6,7,8,9,10]        # to get a bundle of numbrs\n",
    "#index no  0 1 2 3 4 5 6 7 8 9\n",
    "# numbers[ start : end ]     ending point is less then 1\n",
    "numbers"
   ]
  },
  {
   "cell_type": "code",
   "execution_count": null,
   "metadata": {},
   "outputs": [],
   "source": [
    "new_num = numbers[1:3]\n",
    "new_num"
   ]
  },
  {
   "cell_type": "code",
   "execution_count": null,
   "metadata": {},
   "outputs": [],
   "source": [
    "numbers"
   ]
  },
  {
   "cell_type": "code",
   "execution_count": null,
   "metadata": {},
   "outputs": [],
   "source": [
    "new_num2 = numbers[4:8]\n",
    "new_num2"
   ]
  },
  {
   "cell_type": "code",
   "execution_count": null,
   "metadata": {},
   "outputs": [],
   "source": [
    "alphanumeric = ['a',1,'b',2]\n",
    "alphanumeric"
   ]
  },
  {
   "cell_type": "code",
   "execution_count": null,
   "metadata": {},
   "outputs": [],
   "source": [
    "alphanumeric[1:3]"
   ]
  },
  {
   "cell_type": "code",
   "execution_count": null,
   "metadata": {},
   "outputs": [],
   "source": [
    "# Even Odd assignment\n",
    "\n",
    "\n",
    "\n",
    "\n"
   ]
  },
  {
   "cell_type": "code",
   "execution_count": null,
   "metadata": {},
   "outputs": [],
   "source": [
    "list1 = numbers.copy()\n",
    "list1"
   ]
  },
  {
   "cell_type": "code",
   "execution_count": null,
   "metadata": {},
   "outputs": [],
   "source": [
    "list1[-1]"
   ]
  },
  {
   "cell_type": "code",
   "execution_count": null,
   "metadata": {},
   "outputs": [],
   "source": [
    "list1[-2]"
   ]
  },
  {
   "cell_type": "code",
   "execution_count": null,
   "metadata": {},
   "outputs": [],
   "source": [
    "list1= [1,2,3,4,5,6,7,8,9,10]\n",
    "#index  0,1,2,3,4,5,6,7,8,9\n",
    "#-index -8,-7,-6,-5,-4,-3,-2,-1"
   ]
  },
  {
   "cell_type": "code",
   "execution_count": null,
   "metadata": {},
   "outputs": [],
   "source": [
    "list1[4:2]    # will not raise error but show empty box bec it will not work in oppssite way "
   ]
  },
  {
   "cell_type": "code",
   "execution_count": null,
   "metadata": {},
   "outputs": [],
   "source": [
    "list1[-3:-1]"
   ]
  },
  {
   "cell_type": "code",
   "execution_count": null,
   "metadata": {},
   "outputs": [],
   "source": [
    "list1[-3:3]"
   ]
  },
  {
   "cell_type": "code",
   "execution_count": null,
   "metadata": {},
   "outputs": [],
   "source": [
    "list1[-7:1]"
   ]
  },
  {
   "cell_type": "code",
   "execution_count": null,
   "metadata": {},
   "outputs": [],
   "source": [
    "height_in_cm = float(input(\"Enter your Height in Cm here : \"))\n",
    "weight = float(input(\"Enter your weightt in Kg here : \"))\n",
    "height_in_m = height_in_cm / 100\n",
    "bmi = weight/height_in_m**2\n",
    "\n",
    "print('That categorization is the subject of some debate about where on the BMI scale the dividing lines between categories should be placed.')\n",
    "print(\"\"\"Commonly accepted BMI ranges are:\n",
    "\n",
    "underweight: Under 18.5 kg/m2\n",
    "\n",
    "Normal weight: 18.5 to 25\n",
    "\n",
    "Overweight: 25 to 30\n",
    "\n",
    "Obese: over 30\"\"\")\n",
    "\n",
    "if bmi <= 18.5:\n",
    "    print('Your BMI scale is ' + str(bmi) + ' This is Underweight.')\n",
    "    print('Underweight. ... An underweight person is a type of person whose body weight is considered too low to be healthy. Underweight people have a body mass index (BMI) of under 18.5 or a weight 15% to 20% below that normal for their age and height group.')\n",
    "elif bmi  <= 25:\n",
    "    print('Your BMI scale is ' + str(bmi) + ' This is Normal.')\n",
    "    print(\"The body mass index (BMI) is a measure that uses your height and weight to work out if your weight is healthy. The BMI calculation divides an adult's weight in kilograms by their height in metres squared. For example, A BMI of 25 means 25kg/m2\")\n",
    "else:\n",
    "    print('Your BMI scale is ' + str(bmi) + ' This is Obese.')\n",
    "\n",
    "    print('''\n",
    "Obesity is a medical condition in which excess body fat has accumulated to the extent that it may have an adverse effect on health. It is defined by body mass index (BMI) and further evaluated in terms of fat distribution via the waist–hip ratio and total cardiovascular risk factors.\n",
    "\n",
    "Complications: Cardiovascular diseases, type 2\n",
    "\n",
    "Diagnostic method: BMI > 30 kg/m2\n",
    "\n",
    "Symptoms: Increased fat\n",
    "\n",
    "Treatment: Diet, exercise, medications, surgery''')\n"
   ]
  },
  {
   "cell_type": "markdown",
   "metadata": {},
   "source": [
    "# Tuples\n"
   ]
  },
  {
   "cell_type": "code",
   "execution_count": null,
   "metadata": {},
   "outputs": [],
   "source": [
    "tup =(1,2,3)       #tuple me append nh hota"
   ]
  },
  {
   "cell_type": "code",
   "execution_count": null,
   "metadata": {},
   "outputs": [],
   "source": [
    "tup"
   ]
  },
  {
   "cell_type": "code",
   "execution_count": null,
   "metadata": {},
   "outputs": [],
   "source": [
    "type(tup)"
   ]
  },
  {
   "cell_type": "code",
   "execution_count": null,
   "metadata": {},
   "outputs": [],
   "source": [
    "print(tup)"
   ]
  },
  {
   "cell_type": "code",
   "execution_count": null,
   "metadata": {},
   "outputs": [],
   "source": [
    "print(type(tup))"
   ]
  },
  {
   "cell_type": "code",
   "execution_count": null,
   "metadata": {},
   "outputs": [],
   "source": [
    "tup1 = ('a',1,1.5,True)"
   ]
  },
  {
   "cell_type": "code",
   "execution_count": null,
   "metadata": {},
   "outputs": [],
   "source": [
    "tup1"
   ]
  },
  {
   "cell_type": "code",
   "execution_count": null,
   "metadata": {},
   "outputs": [],
   "source": [
    "tup1[1]"
   ]
  },
  {
   "cell_type": "code",
   "execution_count": null,
   "metadata": {},
   "outputs": [],
   "source": [
    "tup1[0]"
   ]
  },
  {
   "cell_type": "code",
   "execution_count": null,
   "metadata": {},
   "outputs": [],
   "source": [
    "tup1[1:3]"
   ]
  },
  {
   "cell_type": "code",
   "execution_count": null,
   "metadata": {},
   "outputs": [],
   "source": [
    "tup1 = 'a',1,1.5,True"
   ]
  },
  {
   "cell_type": "code",
   "execution_count": null,
   "metadata": {},
   "outputs": [],
   "source": [
    "tup1"
   ]
  },
  {
   "cell_type": "code",
   "execution_count": null,
   "metadata": {},
   "outputs": [],
   "source": [
    "friends = ['humza','tayab','dawood']"
   ]
  },
  {
   "cell_type": "code",
   "execution_count": null,
   "metadata": {},
   "outputs": [],
   "source": [
    "friends.append('abdullah')"
   ]
  },
  {
   "cell_type": "code",
   "execution_count": null,
   "metadata": {},
   "outputs": [],
   "source": [
    "friends"
   ]
  },
  {
   "cell_type": "code",
   "execution_count": 8,
   "metadata": {},
   "outputs": [
    {
     "ename": "NameError",
     "evalue": "name 'friends' is not defined",
     "output_type": "error",
     "traceback": [
      "\u001b[1;31m---------------------------------------------------------------------------\u001b[0m",
      "\u001b[1;31mNameError\u001b[0m                                 Traceback (most recent call last)",
      "\u001b[1;32m<ipython-input-8-7f14a5380761>\u001b[0m in \u001b[0;36m<module>\u001b[1;34m\u001b[0m\n\u001b[1;32m----> 1\u001b[1;33m \u001b[0mfriends\u001b[0m\u001b[1;33m\u001b[0m\u001b[1;33m\u001b[0m\u001b[0m\n\u001b[0m",
      "\u001b[1;31mNameError\u001b[0m: name 'friends' is not defined"
     ]
    }
   ],
   "source": [
    "friends"
   ]
  },
  {
   "cell_type": "code",
   "execution_count": null,
   "metadata": {},
   "outputs": [],
   "source": [
    "friends.remove('abdullah')"
   ]
  },
  {
   "cell_type": "code",
   "execution_count": null,
   "metadata": {},
   "outputs": [],
   "source": [
    "friends"
   ]
  },
  {
   "cell_type": "code",
   "execution_count": null,
   "metadata": {},
   "outputs": [],
   "source": [
    "best_friend =[]"
   ]
  },
  {
   "cell_type": "code",
   "execution_count": null,
   "metadata": {},
   "outputs": [],
   "source": [
    "friends.pop(0)"
   ]
  },
  {
   "cell_type": "code",
   "execution_count": null,
   "metadata": {},
   "outputs": [],
   "source": [
    "friends"
   ]
  },
  {
   "cell_type": "code",
   "execution_count": null,
   "metadata": {},
   "outputs": [],
   "source": [
    "best_friend"
   ]
  },
  {
   "cell_type": "code",
   "execution_count": null,
   "metadata": {},
   "outputs": [],
   "source": [
    "friends.append('humza')"
   ]
  },
  {
   "cell_type": "code",
   "execution_count": null,
   "metadata": {},
   "outputs": [],
   "source": [
    "friends"
   ]
  },
  {
   "cell_type": "code",
   "execution_count": null,
   "metadata": {},
   "outputs": [],
   "source": [
    "best_friend.append(friends.pop(2))"
   ]
  },
  {
   "cell_type": "code",
   "execution_count": null,
   "metadata": {},
   "outputs": [],
   "source": [
    "best_friend"
   ]
  },
  {
   "cell_type": "code",
   "execution_count": null,
   "metadata": {},
   "outputs": [],
   "source": [
    "my_tuple = ('Ahsan', 21 , 21.45 , True)"
   ]
  },
  {
   "cell_type": "code",
   "execution_count": null,
   "metadata": {},
   "outputs": [],
   "source": [
    "my_tuple[2]"
   ]
  },
  {
   "cell_type": "code",
   "execution_count": null,
   "metadata": {},
   "outputs": [],
   "source": [
    "slice_value = my_tuple[1:4]"
   ]
  },
  {
   "cell_type": "code",
   "execution_count": null,
   "metadata": {},
   "outputs": [],
   "source": [
    "slice_value"
   ]
  },
  {
   "cell_type": "code",
   "execution_count": null,
   "metadata": {},
   "outputs": [],
   "source": [
    "my_tuple"
   ]
  },
  {
   "cell_type": "code",
   "execution_count": null,
   "metadata": {},
   "outputs": [],
   "source": [
    "del my_tuple[0]      #tuple me se kuch delete nh kar sakte / append b nh hoskta"
   ]
  },
  {
   "cell_type": "code",
   "execution_count": null,
   "metadata": {},
   "outputs": [],
   "source": [
    "new_tuple = (1,2,3,4,5,6,7.89,8.6)"
   ]
  },
  {
   "cell_type": "code",
   "execution_count": null,
   "metadata": {},
   "outputs": [],
   "source": [
    "new_tuple.index(8.6)    #index bata dia "
   ]
  },
  {
   "cell_type": "code",
   "execution_count": null,
   "metadata": {},
   "outputs": [],
   "source": [
    "dost = ('Ali', 'Humza', 'Khan', 'Mohsin', 'Humza')\n",
    "dost.index(\"Humza\")"
   ]
  },
  {
   "cell_type": "code",
   "execution_count": null,
   "metadata": {},
   "outputs": [],
   "source": [
    "dost = ('Ali', 'Humza', 'Khan', 'Mohsin', 'Humza')\n",
    "dost.index(\"Humza\",3)"
   ]
  },
  {
   "cell_type": "markdown",
   "metadata": {},
   "source": [
    "# dost = ('Ali', 'Humza', 'Khan', 'Mohsin', 'Humza')\n",
    "dost.index(\"Shezi\")"
   ]
  },
  {
   "cell_type": "code",
   "execution_count": null,
   "metadata": {},
   "outputs": [],
   "source": [
    "dost.index(\"Humza\",3)"
   ]
  },
  {
   "cell_type": "code",
   "execution_count": null,
   "metadata": {},
   "outputs": [],
   "source": [
    "numbers = (1 , 2 , 2 , 3 , 4 , 5, 6 , 1 , 5 , 3  , 2 , 2)\n",
    "numbers.count(2)         #mode batyega ktni bar hy value"
   ]
  },
  {
   "cell_type": "code",
   "execution_count": null,
   "metadata": {},
   "outputs": [],
   "source": [
    "numbers.count(123)"
   ]
  },
  {
   "cell_type": "markdown",
   "metadata": {},
   "source": [
    "# Loops"
   ]
  },
  {
   "cell_type": "markdown",
   "metadata": {},
   "source": [
    "# for loop"
   ]
  },
  {
   "cell_type": "code",
   "execution_count": null,
   "metadata": {},
   "outputs": [],
   "source": [
    "my_numbers = [1,2,3,4,6,8,10]\n",
    "for number in my_numbers:           #for k loop se list k element oth k variable me ajayenge\n",
    "    mult = number * 2\n",
    "    print(mult)"
   ]
  },
  {
   "cell_type": "code",
   "execution_count": null,
   "metadata": {},
   "outputs": [],
   "source": [
    "name1 = ['Ali' , \"umer\" , 'Ahsan' , \"nasir\"]\n",
    "for name2 in name1:\n",
    "    print(name2)"
   ]
  },
  {
   "cell_type": "code",
   "execution_count": null,
   "metadata": {},
   "outputs": [],
   "source": [
    "# 2 X 1 = 2\n"
   ]
  },
  {
   "cell_type": "code",
   "execution_count": null,
   "metadata": {},
   "outputs": [],
   "source": [
    "for i in range(11):\n",
    "    print(i,\"Pakistan Zindabad\")"
   ]
  },
  {
   "cell_type": "code",
   "execution_count": null,
   "metadata": {},
   "outputs": [],
   "source": [
    "for a in range(1,11):\n",
    "    print(a , \"PIAIC\")"
   ]
  },
  {
   "cell_type": "code",
   "execution_count": null,
   "metadata": {},
   "outputs": [],
   "source": [
    "for z in range(1,11,1):       #step le rha ha \n",
    "    print(z)"
   ]
  },
  {
   "cell_type": "code",
   "execution_count": null,
   "metadata": {},
   "outputs": [],
   "source": [
    "for b in range(1,11,2):\n",
    "    print(b)"
   ]
  },
  {
   "cell_type": "code",
   "execution_count": null,
   "metadata": {},
   "outputs": [],
   "source": [
    "for r in range(10,0,-1):  #decending order\n",
    "    print(r)"
   ]
  },
  {
   "cell_type": "code",
   "execution_count": null,
   "metadata": {},
   "outputs": [],
   "source": [
    "#by default be behavior print ka end='/'\n",
    "# for line end=\" \"\n",
    "for r in range(10,0,-1):\n",
    "    print(r,end=\" \")"
   ]
  },
  {
   "cell_type": "markdown",
   "metadata": {},
   "source": [
    "# Print formating"
   ]
  },
  {
   "cell_type": "code",
   "execution_count": null,
   "metadata": {},
   "outputs": [],
   "source": [
    "#for space or TAB in print use end=\" \\t\"     escape characters\n",
    "#print ka by default behavior , hy space k liye \n",
    "print('asad','ali','humza')"
   ]
  },
  {
   "cell_type": "code",
   "execution_count": null,
   "metadata": {},
   "outputs": [],
   "source": [
    "print('asad','ali','humza', sep=\"***\")"
   ]
  },
  {
   "cell_type": "code",
   "execution_count": null,
   "metadata": {},
   "outputs": [],
   "source": [
    "print('asad','ali','humza', sep=\"====\")"
   ]
  },
  {
   "cell_type": "code",
   "execution_count": 9,
   "metadata": {},
   "outputs": [
    {
     "name": "stdout",
     "output_type": "stream",
     "text": [
      "My name is and my age is\n"
     ]
    }
   ],
   "source": [
    "name = \"Nehal\"\n",
    "age = 26\n",
    "print(\"My name is and my age is\")"
   ]
  },
  {
   "cell_type": "code",
   "execution_count": 10,
   "metadata": {},
   "outputs": [
    {
     "name": "stdout",
     "output_type": "stream",
     "text": [
      "My name is Nehaland my age is 26\n"
     ]
    }
   ],
   "source": [
    "name = \"Nehal\"\n",
    "age = \"26\"\n",
    "print(\"My name is \"+ name + \"and my age is \"+ age)"
   ]
  },
  {
   "cell_type": "code",
   "execution_count": 11,
   "metadata": {},
   "outputs": [
    {
     "name": "stdout",
     "output_type": "stream",
     "text": [
      "My name is Nehal and my age is 26\n"
     ]
    }
   ],
   "source": [
    "name = \"Nehal\"\n",
    "age = \"26\"\n",
    "print(\"My name is {} and my age is {}\".format(name,age))"
   ]
  },
  {
   "cell_type": "code",
   "execution_count": 12,
   "metadata": {},
   "outputs": [
    {
     "name": "stdout",
     "output_type": "stream",
     "text": [
      "My name is Nehal and my age is 26\n"
     ]
    }
   ],
   "source": [
    "name = \"Nehal\"\n",
    "age = \"26\"\n",
    "print(\"My name is {0} and my age is {1}\".format(name,age))"
   ]
  },
  {
   "cell_type": "code",
   "execution_count": 13,
   "metadata": {},
   "outputs": [
    {
     "name": "stdout",
     "output_type": "stream",
     "text": [
      "My name is Nehal and my age is 26\n"
     ]
    }
   ],
   "source": [
    "name = \"Nehal\"\n",
    "age = 26\n",
    "print(\"My name is {} and my age is {}\".format(name,age))"
   ]
  },
  {
   "cell_type": "code",
   "execution_count": 14,
   "metadata": {},
   "outputs": [
    {
     "name": "stdout",
     "output_type": "stream",
     "text": [
      "My name is Nehal and my age is 26\n"
     ]
    }
   ],
   "source": [
    "name = \"Nehal\"\n",
    "age = \"26\"\n",
    "print(f\"My name is {name} and my age is {age}\")"
   ]
  },
  {
   "cell_type": "code",
   "execution_count": 15,
   "metadata": {},
   "outputs": [
    {
     "name": "stdout",
     "output_type": "stream",
     "text": [
      "My name is Nehal and my age is 26\n"
     ]
    }
   ],
   "source": [
    "name = \"Nehal\"\n",
    "age = 26\n",
    "print(f\"My name is {name} and my age is {age}\")"
   ]
  },
  {
   "cell_type": "code",
   "execution_count": 16,
   "metadata": {},
   "outputs": [
    {
     "name": "stdout",
     "output_type": "stream",
     "text": [
      "Enter your table number2\n",
      "2\n",
      "4\n",
      "6\n",
      "8\n",
      "10\n",
      "12\n",
      "14\n",
      "16\n",
      "18\n",
      "20\n"
     ]
    }
   ],
   "source": [
    "table = int(input(\"Enter your table number\"))\n",
    "for nums in range(1,11):\n",
    "    print(table*nums)"
   ]
  },
  {
   "cell_type": "code",
   "execution_count": 17,
   "metadata": {},
   "outputs": [
    {
     "name": "stdout",
     "output_type": "stream",
     "text": [
      "Enter your table number2\n",
      "2* 1 = 2\n",
      "2* 2 = 4\n",
      "2* 3 = 6\n",
      "2* 4 = 8\n",
      "2* 5 = 10\n",
      "2* 6 = 12\n",
      "2* 7 = 14\n",
      "2* 8 = 16\n",
      "2* 9 = 18\n",
      "2* 10 = 20\n"
     ]
    }
   ],
   "source": [
    "table = int(input(\"Enter your table number\"))\n",
    "for nums in range(1,11):\n",
    "    print(f\"{table}* {nums} = {table*nums}\")"
   ]
  },
  {
   "cell_type": "code",
   "execution_count": 18,
   "metadata": {},
   "outputs": [],
   "source": [
    " #break , continue , pass"
   ]
  },
  {
   "cell_type": "code",
   "execution_count": 19,
   "metadata": {},
   "outputs": [
    {
     "name": "stdout",
     "output_type": "stream",
     "text": [
      "Enter your table number2\n",
      "2* 1 = 2\n",
      "2* 2 = 4\n"
     ]
    }
   ],
   "source": [
    "table = int(input(\"Enter your table number\"))\n",
    "for nums in range(1,11):\n",
    "    if nums == 3:\n",
    "        break\n",
    "    print(f\"{table}* {nums} = {table*nums}\")"
   ]
  },
  {
   "cell_type": "code",
   "execution_count": 20,
   "metadata": {},
   "outputs": [
    {
     "name": "stdout",
     "output_type": "stream",
     "text": [
      "Enter your table number2\n",
      "2* 1 = 2\n"
     ]
    }
   ],
   "source": [
    "table = int(input(\"Enter your table number\"))\n",
    "for nums in range(1,11,2):\n",
    "    if nums == 3:\n",
    "        break\n",
    "    print(f\"{table}* {nums} = {table*nums}\")"
   ]
  },
  {
   "cell_type": "code",
   "execution_count": 21,
   "metadata": {},
   "outputs": [
    {
     "name": "stdout",
     "output_type": "stream",
     "text": [
      "Enter your table number3\n",
      "3* 1 = 3\n",
      "3* 2 = 6\n",
      "3* 4 = 12\n",
      "3* 5 = 15\n",
      "3* 6 = 18\n",
      "3* 7 = 21\n",
      "3* 8 = 24\n",
      "3* 9 = 27\n",
      "3* 10 = 30\n"
     ]
    }
   ],
   "source": [
    "table = int(input(\"Enter your table number\"))\n",
    "for nums in range(1,11):\n",
    "    if nums == 3:\n",
    "        continue\n",
    "    print(f\"{table}* {nums} = {table*nums}\")"
   ]
  },
  {
   "cell_type": "code",
   "execution_count": 22,
   "metadata": {},
   "outputs": [
    {
     "name": "stdout",
     "output_type": "stream",
     "text": [
      "Enter your table number4\n",
      "4* 1 = 4\n",
      "4* 2 = 8\n",
      "4* 3 = 12\n",
      "4* 4 = 16\n",
      "4* 5 = 20\n",
      "4* 6 = 24\n",
      "4* 7 = 28\n",
      "4* 8 = 32\n",
      "4* 9 = 36\n",
      "4* 10 = 40\n"
     ]
    }
   ],
   "source": [
    "table = int(input(\"Enter your table number\"))\n",
    "for nums in range(1,11):\n",
    "    if nums == 3:\n",
    "        pass\n",
    "    print(f\"{table}* {nums} = {table*nums}\")"
   ]
  },
  {
   "cell_type": "code",
   "execution_count": 23,
   "metadata": {},
   "outputs": [
    {
     "name": "stdout",
     "output_type": "stream",
     "text": [
      "Enter your table number2\n",
      "2* 1 = 2\n",
      "2* 2 = 4\n"
     ]
    }
   ],
   "source": [
    "table = int(input(\"Enter your table number\"))\n",
    "for nums in range(1,11):\n",
    "    if nums == 3:\n",
    "        break\n",
    "    print(f\"{table}* {nums} = {table*nums}\")"
   ]
  },
  {
   "cell_type": "code",
   "execution_count": 24,
   "metadata": {},
   "outputs": [
    {
     "name": "stdout",
     "output_type": "stream",
     "text": [
      "Enter your table number5\n",
      "5* 1 = 5\n",
      "5* 2 = 10\n",
      "5* 4 = 20\n",
      "5* 5 = 25\n",
      "5* 6 = 30\n",
      "5* 7 = 35\n",
      "5* 8 = 40\n",
      "5* 9 = 45\n",
      "5* 10 = 50\n"
     ]
    }
   ],
   "source": [
    "table = int(input(\"Enter your table number\"))\n",
    "for nums in range(1,11):\n",
    "    if nums == 3:\n",
    "        continue\n",
    "    print(f\"{table}* {nums} = {table*nums}\")"
   ]
  },
  {
   "cell_type": "code",
   "execution_count": 25,
   "metadata": {},
   "outputs": [
    {
     "name": "stdout",
     "output_type": "stream",
     "text": [
      "Enter your table number3\n",
      "3* 1 = 3\n",
      "3* 2 = 6\n",
      "3* 3 = 9\n",
      "3* 4 = 12\n",
      "3* 5 = 15\n",
      "3* 6 = 18\n",
      "3* 7 = 21\n",
      "3* 8 = 24\n",
      "3* 9 = 27\n",
      "3* 10 = 30\n"
     ]
    }
   ],
   "source": [
    "table = int(input(\"Enter your table number\"))\n",
    "for nums in range(1,11):\n",
    "    if nums == 3:\n",
    "        pass\n",
    "    print(f\"{table}* {nums} = {table*nums}\")"
   ]
  },
  {
   "cell_type": "code",
   "execution_count": 26,
   "metadata": {},
   "outputs": [
    {
     "name": "stdout",
     "output_type": "stream",
     "text": [
      "Enter your table number3\n",
      "3* 0 = 0\n",
      "3* 1 = 3\n",
      "3* 2 = 6\n"
     ]
    }
   ],
   "source": [
    "table = int(input(\"Enter your table number\"))\n",
    "for nums in range(0,11):\n",
    "    if nums == 3:\n",
    "        break\n",
    "    print(f\"{table}* {nums} = {table*nums}\")"
   ]
  },
  {
   "cell_type": "code",
   "execution_count": 27,
   "metadata": {},
   "outputs": [
    {
     "name": "stdout",
     "output_type": "stream",
     "text": [
      "Enter your table number2\n",
      "2* 0 = 0\n",
      "2* 1 = 2\n",
      "2* 2 = 4\n",
      "2* 4 = 8\n",
      "2* 5 = 10\n",
      "2* 6 = 12\n",
      "2* 7 = 14\n",
      "2* 8 = 16\n",
      "2* 9 = 18\n",
      "2* 10 = 20\n"
     ]
    }
   ],
   "source": [
    "table = int(input(\"Enter your table number\"))\n",
    "for nums in range(0,11):\n",
    "    if nums == 3:\n",
    "        continue\n",
    "    print(f\"{table}* {nums} = {table*nums}\")"
   ]
  },
  {
   "cell_type": "code",
   "execution_count": 28,
   "metadata": {},
   "outputs": [
    {
     "name": "stdout",
     "output_type": "stream",
     "text": [
      "Party Enjoy\n",
      "Party Enjoy\n",
      "Bhag Abba Agae\n",
      "Party Enjoy\n"
     ]
    }
   ],
   "source": [
    "Friend_list = ['Ali', 'Humza', 'Khan', 'Shezi']\n",
    "for Friend in Friend_list:\n",
    "    if Friend != 'Khan':\n",
    "        print(\"Party Enjoy\")\n",
    "    else:\n",
    "        print(\"Bhag Abba Agae\")"
   ]
  },
  {
   "cell_type": "code",
   "execution_count": 29,
   "metadata": {},
   "outputs": [
    {
     "name": "stdout",
     "output_type": "stream",
     "text": [
      "Party Enjoy\n",
      "Party Enjoy\n",
      "Bhag Abba Agae\n"
     ]
    }
   ],
   "source": [
    "Friend_list = ['Ali', 'Humza', 'Khan', 'Shezi']\n",
    "for Friend in Friend_list:\n",
    "    if Friend != 'Khan':\n",
    "        print(\"Party Enjoy\")\n",
    "    else:\n",
    "        print(\"Bhag Abba Agae\")\n",
    "        break"
   ]
  },
  {
   "cell_type": "code",
   "execution_count": 31,
   "metadata": {},
   "outputs": [
    {
     "ename": "SyntaxError",
     "evalue": "unexpected EOF while parsing (<ipython-input-31-ffe9b5e51155>, line 1)",
     "output_type": "error",
     "traceback": [
      "\u001b[1;36m  File \u001b[1;32m\"<ipython-input-31-ffe9b5e51155>\"\u001b[1;36m, line \u001b[1;32m1\u001b[0m\n\u001b[1;33m    for a in range(10):\u001b[0m\n\u001b[1;37m                       ^\u001b[0m\n\u001b[1;31mSyntaxError\u001b[0m\u001b[1;31m:\u001b[0m unexpected EOF while parsing\n"
     ]
    }
   ],
   "source": [
    "for a in range(10):\n"
   ]
  },
  {
   "cell_type": "code",
   "execution_count": 32,
   "metadata": {},
   "outputs": [],
   "source": [
    "for a in range(10):     #pass error nh ane dega program excute karega\n",
    "    pass"
   ]
  },
  {
   "cell_type": "markdown",
   "metadata": {},
   "source": [
    "# Nested Loop\n",
    "\n",
    "#for Nested loops"
   ]
  },
  {
   "cell_type": "code",
   "execution_count": 33,
   "metadata": {},
   "outputs": [],
   "source": [
    "#nested means ek k ander ek chez phir further further  (inner loop outer loop pe depend ho)"
   ]
  },
  {
   "cell_type": "code",
   "execution_count": 34,
   "metadata": {},
   "outputs": [
    {
     "name": "stdout",
     "output_type": "stream",
     "text": [
      "0\n",
      "1\n",
      "2\n",
      "3\n",
      "4\n",
      "5\n",
      "6\n",
      "7\n",
      "8\n",
      "9\n",
      "9 a\n",
      "9 b\n",
      "9 c\n",
      "9 v\n"
     ]
    }
   ],
   "source": [
    "for a in range(10):\n",
    "    print(a)\n",
    "for b in ['a','b','c','v']:\n",
    "    print(a,b)      #ye normal loop ha dpended nh ha"
   ]
  },
  {
   "cell_type": "code",
   "execution_count": 35,
   "metadata": {},
   "outputs": [
    {
     "name": "stdout",
     "output_type": "stream",
     "text": [
      "0 a \t0 b \t0 c \t0 v \t1 a \t1 b \t1 c \t1 v \t2 a \t2 b \t2 c \t2 v \t3 a \t3 b \t3 c \t3 v \t4 a \t4 b \t4 c \t4 v \t5 a \t5 b \t5 c \t5 v \t6 a \t6 b \t6 c \t6 v \t7 a \t7 b \t7 c \t7 v \t8 a \t8 b \t8 c \t8 v \t9 a \t9 b \t9 c \t9 v \t"
     ]
    }
   ],
   "source": [
    "for a in range(10):\n",
    "    for b in ['a','b','c','v' ]:\n",
    "     print(a,b,end= \" \\t\")"
   ]
  },
  {
   "cell_type": "code",
   "execution_count": 36,
   "metadata": {},
   "outputs": [
    {
     "ename": "IndentationError",
     "evalue": "expected an indented block (<ipython-input-36-816a53de8275>, line 4)",
     "output_type": "error",
     "traceback": [
      "\u001b[1;36m  File \u001b[1;32m\"<ipython-input-36-816a53de8275>\"\u001b[1;36m, line \u001b[1;32m4\u001b[0m\n\u001b[1;33m    print(c,b,end= \" \\t\")\u001b[0m\n\u001b[1;37m        ^\u001b[0m\n\u001b[1;31mIndentationError\u001b[0m\u001b[1;31m:\u001b[0m expected an indented block\n"
     ]
    }
   ],
   "source": [
    "a = int(input(\"Enter Your number\"))\n",
    "for c in range(a):\n",
    "    for b in ['a','b','c','v' ]:\n",
    "    print(c,b,end= \" \\t\")"
   ]
  },
  {
   "cell_type": "code",
   "execution_count": 37,
   "metadata": {},
   "outputs": [
    {
     "name": "stdout",
     "output_type": "stream",
     "text": [
      "enter your number\n"
     ]
    },
    {
     "ename": "ValueError",
     "evalue": "invalid literal for int() with base 10: ''",
     "output_type": "error",
     "traceback": [
      "\u001b[1;31m---------------------------------------------------------------------------\u001b[0m",
      "\u001b[1;31mValueError\u001b[0m                                Traceback (most recent call last)",
      "\u001b[1;32m<ipython-input-37-96f53ce3aca6>\u001b[0m in \u001b[0;36m<module>\u001b[1;34m\u001b[0m\n\u001b[1;32m----> 1\u001b[1;33m \u001b[0ma\u001b[0m \u001b[1;33m=\u001b[0m \u001b[0mint\u001b[0m\u001b[1;33m(\u001b[0m\u001b[0minput\u001b[0m\u001b[1;33m(\u001b[0m\u001b[1;34m\"enter your number\"\u001b[0m\u001b[1;33m)\u001b[0m\u001b[1;33m)\u001b[0m\u001b[1;33m\u001b[0m\u001b[1;33m\u001b[0m\u001b[0m\n\u001b[0m\u001b[0;32m      2\u001b[0m \u001b[1;32mfor\u001b[0m \u001b[0mc\u001b[0m \u001b[1;32min\u001b[0m \u001b[0mrange\u001b[0m\u001b[1;33m(\u001b[0m\u001b[0ma\u001b[0m\u001b[1;33m)\u001b[0m\u001b[1;33m:\u001b[0m\u001b[1;33m\u001b[0m\u001b[1;33m\u001b[0m\u001b[0m\n\u001b[0;32m      3\u001b[0m     \u001b[1;32mfor\u001b[0m \u001b[0mb\u001b[0m \u001b[1;32min\u001b[0m \u001b[1;33m[\u001b[0m\u001b[1;34m'a'\u001b[0m\u001b[1;33m,\u001b[0m\u001b[1;34m'b'\u001b[0m\u001b[1;33m,\u001b[0m\u001b[1;34m'c'\u001b[0m\u001b[1;33m,\u001b[0m\u001b[1;34m'v'\u001b[0m \u001b[1;33m]\u001b[0m\u001b[1;33m:\u001b[0m\u001b[1;33m\u001b[0m\u001b[1;33m\u001b[0m\u001b[0m\n\u001b[0;32m      4\u001b[0m         \u001b[0mprint\u001b[0m\u001b[1;33m(\u001b[0m\u001b[0mc\u001b[0m\u001b[1;33m,\u001b[0m\u001b[0mb\u001b[0m\u001b[1;33m,\u001b[0m\u001b[0mend\u001b[0m\u001b[1;33m=\u001b[0m \u001b[1;34m\" \\t\"\u001b[0m\u001b[1;33m)\u001b[0m\u001b[1;33m\u001b[0m\u001b[1;33m\u001b[0m\u001b[0m\n",
      "\u001b[1;31mValueError\u001b[0m: invalid literal for int() with base 10: ''"
     ]
    }
   ],
   "source": [
    "a = int(input(\"enter your number\"))\n",
    "for c in range(a):\n",
    "    for b in ['a','b','c','v' ]:\n",
    "        print(c,b,end= \" \\t\")"
   ]
  },
  {
   "cell_type": "code",
   "execution_count": 38,
   "metadata": {},
   "outputs": [
    {
     "name": "stdout",
     "output_type": "stream",
     "text": [
      "*********\n",
      "2* 1 = 2\n",
      "2* 2 = 4\n",
      "2* 3 = 6\n",
      "2* 4 = 8\n",
      "2* 5 = 10\n",
      "2* 6 = 12\n",
      "2* 7 = 14\n",
      "2* 8 = 16\n",
      "2* 9 = 18\n",
      "2* 10 = 20\n",
      "*********\n",
      "3* 1 = 3\n",
      "3* 2 = 6\n",
      "3* 3 = 9\n",
      "3* 4 = 12\n",
      "3* 5 = 15\n",
      "3* 6 = 18\n",
      "3* 7 = 21\n",
      "3* 8 = 24\n",
      "3* 9 = 27\n",
      "3* 10 = 30\n",
      "*********\n",
      "4* 1 = 4\n",
      "4* 2 = 8\n",
      "4* 3 = 12\n",
      "4* 4 = 16\n",
      "4* 5 = 20\n",
      "4* 6 = 24\n",
      "4* 7 = 28\n",
      "4* 8 = 32\n",
      "4* 9 = 36\n",
      "4* 10 = 40\n",
      "*********\n",
      "5* 1 = 5\n",
      "5* 2 = 10\n",
      "5* 3 = 15\n",
      "5* 4 = 20\n",
      "5* 5 = 25\n",
      "5* 6 = 30\n",
      "5* 7 = 35\n",
      "5* 8 = 40\n",
      "5* 9 = 45\n",
      "5* 10 = 50\n",
      "*********\n",
      "6* 1 = 6\n",
      "6* 2 = 12\n",
      "6* 3 = 18\n",
      "6* 4 = 24\n",
      "6* 5 = 30\n",
      "6* 6 = 36\n",
      "6* 7 = 42\n",
      "6* 8 = 48\n",
      "6* 9 = 54\n",
      "6* 10 = 60\n",
      "*********\n",
      "7* 1 = 7\n",
      "7* 2 = 14\n",
      "7* 3 = 21\n",
      "7* 4 = 28\n",
      "7* 5 = 35\n",
      "7* 6 = 42\n",
      "7* 7 = 49\n",
      "7* 8 = 56\n",
      "7* 9 = 63\n",
      "7* 10 = 70\n",
      "*********\n",
      "8* 1 = 8\n",
      "8* 2 = 16\n",
      "8* 3 = 24\n",
      "8* 4 = 32\n",
      "8* 5 = 40\n",
      "8* 6 = 48\n",
      "8* 7 = 56\n",
      "8* 8 = 64\n",
      "8* 9 = 72\n",
      "8* 10 = 80\n",
      "*********\n",
      "9* 1 = 9\n",
      "9* 2 = 18\n",
      "9* 3 = 27\n",
      "9* 4 = 36\n",
      "9* 5 = 45\n",
      "9* 6 = 54\n",
      "9* 7 = 63\n",
      "9* 8 = 72\n",
      "9* 9 = 81\n",
      "9* 10 = 90\n",
      "*********\n",
      "10* 1 = 10\n",
      "10* 2 = 20\n",
      "10* 3 = 30\n",
      "10* 4 = 40\n",
      "10* 5 = 50\n",
      "10* 6 = 60\n",
      "10* 7 = 70\n",
      "10* 8 = 80\n",
      "10* 9 = 90\n",
      "10* 10 = 100\n"
     ]
    }
   ],
   "source": [
    "for table in range(2,11):\n",
    "    print(\"*********\")\n",
    "    for counter in range(1,11):\n",
    "        print(f\"{table}* {counter} = {table*counter}\")"
   ]
  },
  {
   "cell_type": "code",
   "execution_count": 39,
   "metadata": {},
   "outputs": [
    {
     "name": "stdout",
     "output_type": "stream",
     "text": [
      "*********\n",
      "2* 1 = 2 2* 2 = 4 2* 3 = 6 2* 4 = 8 2* 5 = 10 2* 6 = 12 2* 7 = 14 2* 8 = 16 2* 9 = 18 2* 10 = 20 *********\n",
      "3* 1 = 3 3* 2 = 6 3* 3 = 9 3* 4 = 12 3* 5 = 15 3* 6 = 18 3* 7 = 21 3* 8 = 24 3* 9 = 27 3* 10 = 30 *********\n",
      "4* 1 = 4 4* 2 = 8 4* 3 = 12 4* 4 = 16 4* 5 = 20 4* 6 = 24 4* 7 = 28 4* 8 = 32 4* 9 = 36 4* 10 = 40 *********\n",
      "5* 1 = 5 5* 2 = 10 5* 3 = 15 5* 4 = 20 5* 5 = 25 5* 6 = 30 5* 7 = 35 5* 8 = 40 5* 9 = 45 5* 10 = 50 *********\n",
      "6* 1 = 6 6* 2 = 12 6* 3 = 18 6* 4 = 24 6* 5 = 30 6* 6 = 36 6* 7 = 42 6* 8 = 48 6* 9 = 54 6* 10 = 60 *********\n",
      "7* 1 = 7 7* 2 = 14 7* 3 = 21 7* 4 = 28 7* 5 = 35 7* 6 = 42 7* 7 = 49 7* 8 = 56 7* 9 = 63 7* 10 = 70 *********\n",
      "8* 1 = 8 8* 2 = 16 8* 3 = 24 8* 4 = 32 8* 5 = 40 8* 6 = 48 8* 7 = 56 8* 8 = 64 8* 9 = 72 8* 10 = 80 *********\n",
      "9* 1 = 9 9* 2 = 18 9* 3 = 27 9* 4 = 36 9* 5 = 45 9* 6 = 54 9* 7 = 63 9* 8 = 72 9* 9 = 81 9* 10 = 90 *********\n",
      "10* 1 = 10 10* 2 = 20 10* 3 = 30 10* 4 = 40 10* 5 = 50 10* 6 = 60 10* 7 = 70 10* 8 = 80 10* 9 = 90 10* 10 = 100 "
     ]
    }
   ],
   "source": [
    "for table in range(2,11):\n",
    "    print(\"*********\")\n",
    "    for counter in range(1,11):\n",
    "        print(f\"{table}* {counter} = {table*counter}\",end=\" \")"
   ]
  },
  {
   "cell_type": "code",
   "execution_count": 40,
   "metadata": {},
   "outputs": [
    {
     "name": "stdout",
     "output_type": "stream",
     "text": [
      "p\n"
     ]
    }
   ],
   "source": [
    "print(\"p\")"
   ]
  },
  {
   "cell_type": "markdown",
   "metadata": {},
   "source": [
    "# Dictionary"
   ]
  },
  {
   "cell_type": "code",
   "execution_count": 41,
   "metadata": {},
   "outputs": [
    {
     "name": "stdout",
     "output_type": "stream",
     "text": [
      "{'name': 'Humza', 'age': 23, 'cnic': '4200-2222-2222'}\n"
     ]
    }
   ],
   "source": [
    "dict = {\"name\":'Humza', 'age': 23, 'cnic': '4200-2222-2222'}\n",
    "print(dict)           #ek dict me ek hi nam ki do keyss nh hoskti "
   ]
  },
  {
   "cell_type": "code",
   "execution_count": 42,
   "metadata": {},
   "outputs": [
    {
     "name": "stdout",
     "output_type": "stream",
     "text": [
      "{32: 'abc', 43: 'gfrt'}\n"
     ]
    }
   ],
   "source": [
    "dict1 = {32:'abc', 43 : 'gfrt'}\n",
    "print(dict1)"
   ]
  },
  {
   "cell_type": "code",
   "execution_count": 43,
   "metadata": {},
   "outputs": [
    {
     "data": {
      "text/plain": [
       "23"
      ]
     },
     "execution_count": 43,
     "metadata": {},
     "output_type": "execute_result"
    }
   ],
   "source": [
    "dict['age']"
   ]
  },
  {
   "cell_type": "code",
   "execution_count": 44,
   "metadata": {},
   "outputs": [
    {
     "data": {
      "text/plain": [
       "'abc'"
      ]
     },
     "execution_count": 44,
     "metadata": {},
     "output_type": "execute_result"
    }
   ],
   "source": [
    "dict1[32]"
   ]
  },
  {
   "cell_type": "code",
   "execution_count": 45,
   "metadata": {},
   "outputs": [],
   "source": [
    "empty_dict = {}\n",
    "empty_dict['f_name']=\"Humza Khan\"\n",
    "empty_dict['Age']= 33"
   ]
  },
  {
   "cell_type": "code",
   "execution_count": 46,
   "metadata": {},
   "outputs": [
    {
     "name": "stdout",
     "output_type": "stream",
     "text": [
      "{'f_name': 'Humza Khan', 'Age': 33}\n"
     ]
    }
   ],
   "source": [
    "print(empty_dict)"
   ]
  },
  {
   "cell_type": "code",
   "execution_count": 47,
   "metadata": {},
   "outputs": [
    {
     "name": "stdout",
     "output_type": "stream",
     "text": [
      "{'name': 'Humza', 'age': 67, 'cnic': '4200-2222-2222'}\n"
     ]
    }
   ],
   "source": [
    "dict['age']=67\n",
    "print(dict)"
   ]
  },
  {
   "cell_type": "code",
   "execution_count": 48,
   "metadata": {},
   "outputs": [
    {
     "name": "stdout",
     "output_type": "stream",
     "text": [
      "{'name': 'Ali', 'age': 24, 'Gender': 'Male'}\n"
     ]
    }
   ],
   "source": [
    "same_key = {'name': \"mohsin\", 'age': 24, \"Gender\": 'Male', \"name\": 'Ali'}       #akhri entry ki value lega same key me just\n",
    "print(same_key)"
   ]
  },
  {
   "cell_type": "code",
   "execution_count": 49,
   "metadata": {},
   "outputs": [
    {
     "name": "stdout",
     "output_type": "stream",
     "text": [
      "{'name': 'Ali', 'age': 24}\n"
     ]
    }
   ],
   "source": [
    "del same_key['Gender']\n",
    "print(same_key)"
   ]
  },
  {
   "cell_type": "code",
   "execution_count": 50,
   "metadata": {},
   "outputs": [
    {
     "name": "stdout",
     "output_type": "stream",
     "text": [
      "mohsin\n",
      "24\n",
      "Male\n"
     ]
    }
   ],
   "source": [
    "my_dict = {'name': \"mohsin\", 'age': 24, \"Gender\": 'Male'}      #value ka function dict me mjod values ki list laga bna k deta ha\n",
    "for info in my_dict.values():\n",
    "    print(info)"
   ]
  },
  {
   "cell_type": "code",
   "execution_count": 51,
   "metadata": {},
   "outputs": [
    {
     "name": "stdout",
     "output_type": "stream",
     "text": [
      "name\n",
      "age\n",
      "cnic\n"
     ]
    }
   ],
   "source": [
    "dict0= {'name': \"Nehal\", 'age': 25, 'cnic': '42201-582222-222-1'}\n",
    "for info1 in dict0.keys():\n",
    "    print(info1)"
   ]
  },
  {
   "cell_type": "code",
   "execution_count": 52,
   "metadata": {},
   "outputs": [
    {
     "data": {
      "text/plain": [
       "dict_values([32, 234])"
      ]
     },
     "execution_count": 52,
     "metadata": {},
     "output_type": "execute_result"
    }
   ],
   "source": [
    "dict111 = {'a':32, 'b':234}\n",
    "dict111.values()"
   ]
  },
  {
   "cell_type": "code",
   "execution_count": 53,
   "metadata": {},
   "outputs": [
    {
     "data": {
      "text/plain": [
       "dict_keys(['a', 'b'])"
      ]
     },
     "execution_count": 53,
     "metadata": {},
     "output_type": "execute_result"
    }
   ],
   "source": [
    "dict111.keys()"
   ]
  },
  {
   "cell_type": "code",
   "execution_count": 54,
   "metadata": {},
   "outputs": [
    {
     "name": "stdout",
     "output_type": "stream",
     "text": [
      "Nehal\n",
      "25\n",
      "42201-582222-222-1\n",
      "Male\n"
     ]
    }
   ],
   "source": [
    "dict3 = {'name': \"Nehal\", 'age': 25, 'cnic': '42201-582222-222-1','Gender': 'Male'}\n",
    "for info01 in dict3.keys():\n",
    "    print(dict3[info01])"
   ]
  },
  {
   "cell_type": "code",
   "execution_count": 55,
   "metadata": {},
   "outputs": [
    {
     "name": "stdout",
     "output_type": "stream",
     "text": [
      "name\n",
      "age\n",
      "cnic\n",
      "Gender\n"
     ]
    }
   ],
   "source": [
    "dict3 = {'name': \"Nehal\", 'age': 25, 'cnic': '42201-582222-222-1','Gender': 'Male'}\n",
    "for info01 in dict3.keys():\n",
    "    print(info01)"
   ]
  },
  {
   "cell_type": "code",
   "execution_count": 56,
   "metadata": {},
   "outputs": [
    {
     "name": "stdout",
     "output_type": "stream",
     "text": [
      "This is key:  name *** This is value:  Nehal\n",
      "This is key:  age *** This is value:  25\n",
      "This is key:  cnic *** This is value:  42201-582222-222-1\n",
      "This is key:  Gender *** This is value:  Male\n"
     ]
    }
   ],
   "source": [
    "dict3 = {'name': \"Nehal\", 'age': 25, 'cnic': '42201-582222-222-1','Gender': 'Male'}\n",
    "for key , value in dict3.items():\n",
    "    print(\"This is key: \", key , \"***\",\"This is value: \" , value)"
   ]
  },
  {
   "cell_type": "code",
   "execution_count": 57,
   "metadata": {},
   "outputs": [
    {
     "name": "stdout",
     "output_type": "stream",
     "text": [
      "name :  Nehal\n",
      "age :  25\n",
      "cnic :  42201-582222-222-1\n",
      "Gender :  Male\n"
     ]
    }
   ],
   "source": [
    "dict3 = {'name': \"Nehal\", 'age': 25, 'cnic': '42201-582222-222-1','Gender': 'Male'}\n",
    "for key , value in dict3.items():\n",
    "    print( key ,\": \" , value)"
   ]
  },
  {
   "cell_type": "code",
   "execution_count": 58,
   "metadata": {},
   "outputs": [
    {
     "name": "stdout",
     "output_type": "stream",
     "text": [
      "Enter your name here: Nehal\n",
      "Enter your age here: 25\n",
      "Enter your gender here: Male\n",
      "Enter your class: 1\n",
      "{'Name': 'Nehal', 'Age': '25', 'Gender': 'Male', 'Class': '1'}\n"
     ]
    }
   ],
   "source": [
    "Profile = {}\n",
    "user = input(\"Enter your name here: \")\n",
    "user1 = input(\"Enter your age here: \")\n",
    "user2 = input(\"Enter your gender here: \")\n",
    "user3 = input(\"Enter your class: \")\n",
    "Profile['Name']= user\n",
    "Profile['Age']=user1\n",
    "Profile['Gender']=user2\n",
    "Profile['Class']=user3\n",
    "print(Profile)"
   ]
  },
  {
   "cell_type": "code",
   "execution_count": 60,
   "metadata": {},
   "outputs": [
    {
     "name": "stdout",
     "output_type": "stream",
     "text": [
      "Enter your name here: nehal\n",
      "Enter your age here: 23\n",
      "Enter your gender here: male\n",
      "Enter your class: 1\n",
      "{'Name': 'nehal', 'Age': '23', 'Gender': 'male', 'Class': '1'}\n"
     ]
    },
    {
     "ename": "NameError",
     "evalue": "name 'profile' is not defined",
     "output_type": "error",
     "traceback": [
      "\u001b[1;31m---------------------------------------------------------------------------\u001b[0m",
      "\u001b[1;31mNameError\u001b[0m                                 Traceback (most recent call last)",
      "\u001b[1;32m<ipython-input-60-9ac6cd44a01d>\u001b[0m in \u001b[0;36m<module>\u001b[1;34m\u001b[0m\n\u001b[0;32m      9\u001b[0m \u001b[0mProfile\u001b[0m\u001b[1;33m[\u001b[0m\u001b[1;34m'Class'\u001b[0m\u001b[1;33m]\u001b[0m\u001b[1;33m=\u001b[0m\u001b[0muser3\u001b[0m\u001b[1;33m\u001b[0m\u001b[1;33m\u001b[0m\u001b[0m\n\u001b[0;32m     10\u001b[0m \u001b[0mprint\u001b[0m\u001b[1;33m(\u001b[0m\u001b[0mProfile\u001b[0m\u001b[1;33m)\u001b[0m\u001b[1;33m\u001b[0m\u001b[1;33m\u001b[0m\u001b[0m\n\u001b[1;32m---> 11\u001b[1;33m \u001b[1;32mfor\u001b[0m \u001b[0mkey\u001b[0m \u001b[1;33m,\u001b[0m \u001b[0mvalue\u001b[0m \u001b[1;32min\u001b[0m \u001b[0mprofile\u001b[0m\u001b[1;33m.\u001b[0m\u001b[0mitems\u001b[0m\u001b[1;33m(\u001b[0m\u001b[1;33m)\u001b[0m\u001b[1;33m:\u001b[0m\u001b[1;33m\u001b[0m\u001b[1;33m\u001b[0m\u001b[0m\n\u001b[0m\u001b[0;32m     12\u001b[0m     \u001b[0mprint\u001b[0m\u001b[1;33m(\u001b[0m\u001b[0mKey\u001b[0m \u001b[1;33m,\u001b[0m \u001b[1;34m\":\"\u001b[0m\u001b[1;33m,\u001b[0m \u001b[0mvalue\u001b[0m\u001b[1;33m)\u001b[0m\u001b[1;33m\u001b[0m\u001b[1;33m\u001b[0m\u001b[0m\n",
      "\u001b[1;31mNameError\u001b[0m: name 'profile' is not defined"
     ]
    }
   ],
   "source": [
    "Profile = {}\n",
    "user = input(\"Enter your name here: \")\n",
    "user1 = input(\"Enter your age here: \")\n",
    "user2 = input(\"Enter your gender here: \")\n",
    "user3 = input(\"Enter your class: \")\n",
    "Profile['Name']= user\n",
    "Profile['Age']=user1\n",
    "Profile['Gender']=user2\n",
    "Profile['Class']=user3\n",
    "print(Profile)\n",
    "for key , value in profile.items():\n",
    "    print(Key , \":\", value)"
   ]
  },
  {
   "cell_type": "code",
   "execution_count": 77,
   "metadata": {},
   "outputs": [],
   "source": [
    "customers = [{\"customer_id\":\"123\",\"name\":\"Shahzad\"},\n",
    "            {\"customer_id\":\"234\",\"name\":\"Humza\"},\n",
    "            {\"customer_id\":\"345\",\"name\":\"Ali\"},\n",
    "            {\"customer_id\":\"223\",\"name\":\"Nehal\"},\n",
    "            {\"customer_id\":\"336\",\"name\":\"Mohsin\"}]"
   ]
  },
  {
   "cell_type": "code",
   "execution_count": 78,
   "metadata": {},
   "outputs": [
    {
     "data": {
      "text/plain": [
       "{'customer_id': '336', 'name': 'Mohsin'}"
      ]
     },
     "execution_count": 78,
     "metadata": {},
     "output_type": "execute_result"
    }
   ],
   "source": [
    "customers[-1]"
   ]
  },
  {
   "cell_type": "code",
   "execution_count": 79,
   "metadata": {},
   "outputs": [
    {
     "data": {
      "text/plain": [
       "'Mohsin'"
      ]
     },
     "execution_count": 79,
     "metadata": {},
     "output_type": "execute_result"
    }
   ],
   "source": [
    "customers[-1]['name']"
   ]
  },
  {
   "cell_type": "code",
   "execution_count": 80,
   "metadata": {},
   "outputs": [
    {
     "name": "stdout",
     "output_type": "stream",
     "text": [
      "[{'customer_id': '123', 'name': 'Shahzad'}, {'customer_id': '345', 'name': 'Ali'}, {'customer_id': '223', 'name': 'Nehal'}, {'customer_id': '336', 'name': 'Mohsin'}]\n"
     ]
    }
   ],
   "source": [
    "del customers[1]\n",
    "print(customers)"
   ]
  },
  {
   "cell_type": "code",
   "execution_count": 97,
   "metadata": {},
   "outputs": [],
   "source": [
    "customers = [{\"customer_id\":\"123\",\"name\":\"Shahzad\"},\n",
    "            {\"customer_id\":\"234\",\"name\":\"Humza\"},\n",
    "            {\"customer_id\":\"345\",\"name\":\"Ali\"},\n",
    "            {\"customer_id\":\"223\",\"name\":\"Nehal\"},\n",
    "            {\"customer_id\":\"336\",\"name\":\"Mohsin\"}]"
   ]
  },
  {
   "cell_type": "code",
   "execution_count": 99,
   "metadata": {},
   "outputs": [
    {
     "name": "stdout",
     "output_type": "stream",
     "text": [
      "{'customer_id': '234', 'name': 'Humza'}\n",
      "[{'customer_id': '123', 'name': 'Shahzad'}, {'customer_id': '345', 'name': 'Ali'}, {'customer_id': '223', 'name': 'Nehal'}, {'customer_id': '336', 'name': 'Mohsin'}]\n"
     ]
    }
   ],
   "source": [
    "for i in customers:\n",
    "    if i[\"customer_id\"]==\"234\":\n",
    "        print(i)\n",
    "        customers.remove(i)\n",
    "        print(customers)\n",
    "        break"
   ]
  },
  {
   "cell_type": "code",
   "execution_count": 100,
   "metadata": {},
   "outputs": [],
   "source": [
    "customers2 = {\"customer_id\":\"123\",\"name\":\"Shahzad\",\"interests\":['cricket','movies','reading',{'game':'Football'}]}"
   ]
  },
  {
   "cell_type": "code",
   "execution_count": 101,
   "metadata": {},
   "outputs": [
    {
     "data": {
      "text/plain": [
       "'movies'"
      ]
     },
     "execution_count": 101,
     "metadata": {},
     "output_type": "execute_result"
    }
   ],
   "source": [
    "customers2['interests'][1]"
   ]
  },
  {
   "cell_type": "code",
   "execution_count": 102,
   "metadata": {},
   "outputs": [
    {
     "data": {
      "text/plain": [
       "'Football'"
      ]
     },
     "execution_count": 102,
     "metadata": {},
     "output_type": "execute_result"
    }
   ],
   "source": [
    "customers2['interests'][3]['game']"
   ]
  },
  {
   "cell_type": "code",
   "execution_count": 104,
   "metadata": {},
   "outputs": [],
   "source": [
    "customer = {0:{\n",
    "    \"first name\":\"John\",\n",
    "    \"last name\": \"Ogden\",\n",
    "    \"address\": \"301 Arbor Rd.\"\n",
    "            ,},\n",
    "             1:{\n",
    "        \"first name\":\"Ali\",\n",
    "        \"last name\": \"Shah\",\n",
    "        \"address\": \"211 Kashmir Rd.\"\n",
    "                 ,},\n",
    "                2:{\n",
    "        \"first name\":\"Hussain\",\n",
    "        \"last name\": \"Khan\",\n",
    "        \"address\": \"344 Tariq Rd.\"\n",
    "                    ,}}"
   ]
  },
  {
   "cell_type": "code",
   "execution_count": 111,
   "metadata": {},
   "outputs": [
    {
     "name": "stdout",
     "output_type": "stream",
     "text": [
      "{'first name': 'Hussain', 'last name': 'Khan', 'address': '344 Tariq Rd.'}\n"
     ]
    }
   ],
   "source": [
    "print(customer[2])"
   ]
  },
  {
   "cell_type": "code",
   "execution_count": 112,
   "metadata": {},
   "outputs": [
    {
     "name": "stdout",
     "output_type": "stream",
     "text": [
      "344 Tariq Rd.\n"
     ]
    }
   ],
   "source": [
    "print(customer[2][\"address\"])"
   ]
  },
  {
   "cell_type": "code",
   "execution_count": 113,
   "metadata": {},
   "outputs": [
    {
     "data": {
      "text/plain": [
       "True"
      ]
     },
     "execution_count": 113,
     "metadata": {},
     "output_type": "execute_result"
    }
   ],
   "source": [
    "#agar particular key dict me ha ya nh\n",
    "\n",
    "1 in customer"
   ]
  },
  {
   "cell_type": "code",
   "execution_count": 114,
   "metadata": {},
   "outputs": [
    {
     "data": {
      "text/plain": [
       "False"
      ]
     },
     "execution_count": 114,
     "metadata": {},
     "output_type": "execute_result"
    }
   ],
   "source": [
    "4 in customer"
   ]
  },
  {
   "cell_type": "code",
   "execution_count": 119,
   "metadata": {},
   "outputs": [
    {
     "data": {
      "text/plain": [
       "True"
      ]
     },
     "execution_count": 119,
     "metadata": {},
     "output_type": "execute_result"
    }
   ],
   "source": [
    "\"address\" in customer[2]"
   ]
  },
  {
   "cell_type": "markdown",
   "metadata": {},
   "source": [
    "# Functions"
   ]
  },
  {
   "cell_type": "code",
   "execution_count": 120,
   "metadata": {},
   "outputs": [],
   "source": [
    "# piece of code ,,,, chunk of codes... it saves repitation of works and understand more easier"
   ]
  },
  {
   "cell_type": "code",
   "execution_count": 122,
   "metadata": {},
   "outputs": [],
   "source": [
    "def Function_name():\n",
    "    a = 3\n",
    "    b = 5\n",
    "    c = a + b\n",
    "    print(c)           #kuch b nh hua, yahan do chezen hain function calling, function saving once function call it performs "
   ]
  },
  {
   "cell_type": "code",
   "execution_count": 123,
   "metadata": {},
   "outputs": [
    {
     "name": "stdout",
     "output_type": "stream",
     "text": [
      "8\n"
     ]
    }
   ],
   "source": [
    "Function_name()"
   ]
  },
  {
   "cell_type": "code",
   "execution_count": 124,
   "metadata": {},
   "outputs": [
    {
     "name": "stdout",
     "output_type": "stream",
     "text": [
      "8\n"
     ]
    }
   ],
   "source": [
    "Function_name()"
   ]
  },
  {
   "cell_type": "code",
   "execution_count": 125,
   "metadata": {},
   "outputs": [],
   "source": [
    "#parameters round braces me use hoga"
   ]
  },
  {
   "cell_type": "code",
   "execution_count": 126,
   "metadata": {},
   "outputs": [],
   "source": [
    "def func(x):        #yahan parameter ayega\n",
    "    print(x)    "
   ]
  },
  {
   "cell_type": "code",
   "execution_count": 134,
   "metadata": {},
   "outputs": [
    {
     "name": "stdout",
     "output_type": "stream",
     "text": [
      "Hello World :-)\n"
     ]
    }
   ],
   "source": [
    "func('Hello World :-)')        #yahan arugement ayega parameter ka"
   ]
  },
  {
   "cell_type": "code",
   "execution_count": 135,
   "metadata": {},
   "outputs": [],
   "source": [
    "# x and y are parameter\n",
    "def add(x,y):\n",
    "    print(x+y)"
   ]
  },
  {
   "cell_type": "code",
   "execution_count": 136,
   "metadata": {},
   "outputs": [
    {
     "ename": "TypeError",
     "evalue": "add() missing 1 required positional argument: 'y'",
     "output_type": "error",
     "traceback": [
      "\u001b[1;31m---------------------------------------------------------------------------\u001b[0m",
      "\u001b[1;31mTypeError\u001b[0m                                 Traceback (most recent call last)",
      "\u001b[1;32m<ipython-input-136-c846fc9fb86e>\u001b[0m in \u001b[0;36m<module>\u001b[1;34m\u001b[0m\n\u001b[1;32m----> 1\u001b[1;33m \u001b[0madd\u001b[0m\u001b[1;33m(\u001b[0m\u001b[1;36m2\u001b[0m\u001b[1;33m)\u001b[0m\u001b[1;33m\u001b[0m\u001b[1;33m\u001b[0m\u001b[0m\n\u001b[0m",
      "\u001b[1;31mTypeError\u001b[0m: add() missing 1 required positional argument: 'y'"
     ]
    }
   ],
   "source": [
    "add(2)"
   ]
  },
  {
   "cell_type": "code",
   "execution_count": 137,
   "metadata": {},
   "outputs": [
    {
     "name": "stdout",
     "output_type": "stream",
     "text": [
      "6\n"
     ]
    }
   ],
   "source": [
    "#  and 3 are arguments\n",
    "add(2,4)"
   ]
  },
  {
   "cell_type": "code",
   "execution_count": 138,
   "metadata": {},
   "outputs": [],
   "source": [
    "def Calculator(no1, no2, operator):\n",
    "    if operator == \"+\":\n",
    "        print(no1+no2)\n",
    "    elif operator == \"-\":\n",
    "        print(no1-no2)\n",
    "    elif operator == \"*\":\n",
    "        print(no1*no2)\n",
    "    elif operator == \"/\":\n",
    "        print(no1/no2)\n",
    "    else:\n",
    "        print(\"Invalid Operator\")"
   ]
  },
  {
   "cell_type": "code",
   "execution_count": 140,
   "metadata": {},
   "outputs": [
    {
     "name": "stdout",
     "output_type": "stream",
     "text": [
      "9\n"
     ]
    }
   ],
   "source": [
    "Calculator(5,4,\"+\")"
   ]
  },
  {
   "cell_type": "code",
   "execution_count": 141,
   "metadata": {},
   "outputs": [
    {
     "name": "stdout",
     "output_type": "stream",
     "text": [
      "1\n"
     ]
    }
   ],
   "source": [
    "Calculator(5,4,\"-\")"
   ]
  },
  {
   "cell_type": "code",
   "execution_count": 143,
   "metadata": {},
   "outputs": [
    {
     "name": "stdout",
     "output_type": "stream",
     "text": [
      "20\n"
     ]
    }
   ],
   "source": [
    "Calculator(5,4,\"*\")"
   ]
  },
  {
   "cell_type": "code",
   "execution_count": 144,
   "metadata": {},
   "outputs": [
    {
     "name": "stdout",
     "output_type": "stream",
     "text": [
      "1.25\n"
     ]
    }
   ],
   "source": [
    "Calculator(5,4,\"/\")"
   ]
  },
  {
   "cell_type": "code",
   "execution_count": 145,
   "metadata": {},
   "outputs": [
    {
     "name": "stdout",
     "output_type": "stream",
     "text": [
      "Invalid Operator\n"
     ]
    }
   ],
   "source": [
    "Calculator(5,4,\"%\")"
   ]
  },
  {
   "cell_type": "code",
   "execution_count": 146,
   "metadata": {},
   "outputs": [],
   "source": [
    "#default function save kar skte"
   ]
  },
  {
   "cell_type": "code",
   "execution_count": 147,
   "metadata": {},
   "outputs": [],
   "source": [
    "def Calculator(no1, no2, operator=\"+\"):\n",
    "    if operator == \"+\":\n",
    "        print(no1+no2)\n",
    "    elif operator == \"-\":\n",
    "        print(no1-no2)\n",
    "    elif operator == \"*\":\n",
    "        print(no1*no2)\n",
    "    elif operator == \"/\":\n",
    "        print(no1/no2)\n",
    "    else:\n",
    "        print(\"Invalid Operator\")"
   ]
  },
  {
   "cell_type": "code",
   "execution_count": 148,
   "metadata": {},
   "outputs": [
    {
     "name": "stdout",
     "output_type": "stream",
     "text": [
      "5\n"
     ]
    }
   ],
   "source": [
    "Calculator(10,5,\"-\")"
   ]
  },
  {
   "cell_type": "code",
   "execution_count": 149,
   "metadata": {},
   "outputs": [
    {
     "name": "stdout",
     "output_type": "stream",
     "text": [
      "15\n"
     ]
    }
   ],
   "source": [
    "Calculator(10,5)"
   ]
  },
  {
   "cell_type": "code",
   "execution_count": 150,
   "metadata": {},
   "outputs": [],
   "source": [
    "def userandfather(username, fathername):\n",
    "    print(\"My name is \" + username)\n",
    "    print(\"My father name is \" + fathername)"
   ]
  },
  {
   "cell_type": "code",
   "execution_count": 152,
   "metadata": {},
   "outputs": [
    {
     "name": "stdout",
     "output_type": "stream",
     "text": [
      "My name is Syed Nihal Shah\n",
      "My father name is Syed Jahandad Shah\n"
     ]
    }
   ],
   "source": [
    "userandfather(\"Syed Nihal Shah\", \"Syed Jahandad Shah\")"
   ]
  },
  {
   "cell_type": "code",
   "execution_count": 153,
   "metadata": {},
   "outputs": [
    {
     "name": "stdout",
     "output_type": "stream",
     "text": [
      "My name is Syed Jahandad Shah\n",
      "My father name is Syed Nihal Shah\n"
     ]
    }
   ],
   "source": [
    "userandfather(\"Syed Jahandad Shah\", \"Syed Nihal Shah\")"
   ]
  },
  {
   "cell_type": "code",
   "execution_count": 154,
   "metadata": {},
   "outputs": [
    {
     "name": "stdout",
     "output_type": "stream",
     "text": [
      "My name is Syed Nihal Shah\n",
      "My father name is Syed Jahandad Shah\n"
     ]
    }
   ],
   "source": [
    "userandfather(fathername='Syed Jahandad Shah', username='Syed Nihal Shah')"
   ]
  },
  {
   "cell_type": "markdown",
   "metadata": {},
   "source": [
    "# Function class missed\n"
   ]
  },
  {
   "cell_type": "markdown",
   "metadata": {},
   "source": [
    "# While loop"
   ]
  },
  {
   "cell_type": "code",
   "execution_count": 1,
   "metadata": {},
   "outputs": [
    {
     "name": "stdout",
     "output_type": "stream",
     "text": [
      "0\n",
      "1\n",
      "2\n",
      "3\n",
      "4\n",
      "5\n",
      "6\n",
      "7\n",
      "8\n",
      "9\n"
     ]
    }
   ],
   "source": [
    "for i in range(10):\n",
    "    print(i)"
   ]
  },
  {
   "cell_type": "code",
   "execution_count": 3,
   "metadata": {},
   "outputs": [
    {
     "name": "stdout",
     "output_type": "stream",
     "text": [
      "0\n",
      "1\n",
      "2\n",
      "3\n",
      "4\n",
      "5\n",
      "6\n",
      "7\n",
      "8\n",
      "9\n"
     ]
    }
   ],
   "source": [
    "var = 0\n",
    "while var < 10:\n",
    "    print(var)\n",
    "    var +=1"
   ]
  },
  {
   "cell_type": "code",
   "execution_count": null,
   "metadata": {},
   "outputs": [],
   "source": []
  },
  {
   "cell_type": "code",
   "execution_count": null,
   "metadata": {},
   "outputs": [],
   "source": []
  },
  {
   "cell_type": "markdown",
   "metadata": {},
   "source": [
    "# Classes\n"
   ]
  },
  {
   "cell_type": "code",
   "execution_count": 7,
   "metadata": {},
   "outputs": [],
   "source": [
    "class watch():\n",
    "    def __init__(put, color , shape , lights , brand):\n",
    "        put.color = color\n",
    "        put.shape = shape\n",
    "        put.lights = lights\n",
    "        put.brand = brand\n",
    "    \n",
    "    def Showing_Time(put):\n",
    "        print(f\"It is showing time on {put.brand}\")\n",
    "    \n",
    "    def looking_fine(put):\n",
    "        print(f\"It is looking fine on {put.brand}\")"
   ]
  },
  {
   "cell_type": "code",
   "execution_count": 8,
   "metadata": {},
   "outputs": [],
   "source": [
    "watch1 = watch (\"black\" , \"square\" , \"green\" , \"digital\")"
   ]
  },
  {
   "cell_type": "code",
   "execution_count": 9,
   "metadata": {},
   "outputs": [],
   "source": [
    "watch2 = watch (\"white\" , \"Circular\", \"blue\" , \"classic\")"
   ]
  },
  {
   "cell_type": "code",
   "execution_count": 10,
   "metadata": {},
   "outputs": [
    {
     "data": {
      "text/plain": [
       "'black'"
      ]
     },
     "execution_count": 10,
     "metadata": {},
     "output_type": "execute_result"
    }
   ],
   "source": [
    "watch1.color"
   ]
  },
  {
   "cell_type": "code",
   "execution_count": 11,
   "metadata": {},
   "outputs": [
    {
     "data": {
      "text/plain": [
       "'white'"
      ]
     },
     "execution_count": 11,
     "metadata": {},
     "output_type": "execute_result"
    }
   ],
   "source": [
    "watch2.color"
   ]
  },
  {
   "cell_type": "code",
   "execution_count": 12,
   "metadata": {},
   "outputs": [
    {
     "data": {
      "text/plain": [
       "'square'"
      ]
     },
     "execution_count": 12,
     "metadata": {},
     "output_type": "execute_result"
    }
   ],
   "source": [
    "watch1.shape"
   ]
  },
  {
   "cell_type": "code",
   "execution_count": 13,
   "metadata": {},
   "outputs": [
    {
     "data": {
      "text/plain": [
       "'green'"
      ]
     },
     "execution_count": 13,
     "metadata": {},
     "output_type": "execute_result"
    }
   ],
   "source": [
    "watch1.lights"
   ]
  },
  {
   "cell_type": "code",
   "execution_count": 15,
   "metadata": {},
   "outputs": [
    {
     "data": {
      "text/plain": [
       "'digital'"
      ]
     },
     "execution_count": 15,
     "metadata": {},
     "output_type": "execute_result"
    }
   ],
   "source": [
    "watch1.brand"
   ]
  },
  {
   "cell_type": "code",
   "execution_count": 16,
   "metadata": {},
   "outputs": [
    {
     "data": {
      "text/plain": [
       "('white', 'Circular', 'blue', 'classic')"
      ]
     },
     "execution_count": 16,
     "metadata": {},
     "output_type": "execute_result"
    }
   ],
   "source": [
    "watch2.color,watch2.shape,watch2.lights,watch2.brand"
   ]
  },
  {
   "cell_type": "code",
   "execution_count": 17,
   "metadata": {},
   "outputs": [
    {
     "data": {
      "text/plain": [
       "('black', 'square', 'green', 'digital')"
      ]
     },
     "execution_count": 17,
     "metadata": {},
     "output_type": "execute_result"
    }
   ],
   "source": [
    "watch1.color , watch1.shape , watch1.lights , watch1.brand"
   ]
  },
  {
   "cell_type": "code",
   "execution_count": 18,
   "metadata": {},
   "outputs": [],
   "source": [
    "class watch():\n",
    "    def __init__(put, color , shape , lights , brand):\n",
    "        put.color = color\n",
    "        put.shape = shape\n",
    "        put.lights = lights\n",
    "        put.brand = brand\n",
    "        put.price = 0\n",
    "    \n",
    "    def Showing_Time(put):\n",
    "        print(f\"It is showing time on {put.brand}\")\n",
    "    \n",
    "    def looking_fine(put):\n",
    "        print(f\"It is looking fine on {put.brand}\")"
   ]
  },
  {
   "cell_type": "code",
   "execution_count": 19,
   "metadata": {},
   "outputs": [],
   "source": [
    "W1 = watch (\"silver\", \"Triangle\",\"yellow\",\"digital\")\n",
    "W2 = watch (\"silver\", \"Triangle\",\"yellow\",\"classic\")"
   ]
  },
  {
   "cell_type": "code",
   "execution_count": 20,
   "metadata": {},
   "outputs": [
    {
     "data": {
      "text/plain": [
       "0"
      ]
     },
     "execution_count": 20,
     "metadata": {},
     "output_type": "execute_result"
    }
   ],
   "source": [
    "W1.price"
   ]
  },
  {
   "cell_type": "code",
   "execution_count": 21,
   "metadata": {},
   "outputs": [],
   "source": [
    "W1.price =100\n"
   ]
  },
  {
   "cell_type": "code",
   "execution_count": 22,
   "metadata": {},
   "outputs": [
    {
     "data": {
      "text/plain": [
       "100"
      ]
     },
     "execution_count": 22,
     "metadata": {},
     "output_type": "execute_result"
    }
   ],
   "source": [
    "W1.price"
   ]
  },
  {
   "cell_type": "code",
   "execution_count": 23,
   "metadata": {},
   "outputs": [
    {
     "data": {
      "text/plain": [
       "0"
      ]
     },
     "execution_count": 23,
     "metadata": {},
     "output_type": "execute_result"
    }
   ],
   "source": [
    "W2.price"
   ]
  },
  {
   "cell_type": "code",
   "execution_count": 24,
   "metadata": {},
   "outputs": [],
   "source": [
    "#atributes hide kkardenge price ya kch show nh ho"
   ]
  },
  {
   "cell_type": "code",
   "execution_count": 25,
   "metadata": {},
   "outputs": [],
   "source": [
    "class watch():\n",
    "    def __init__(put, color , shape , lights , brand):\n",
    "        put.color = color\n",
    "        put.shape = shape\n",
    "        put.lights = lights\n",
    "        put.brand = brand\n",
    "        put.price = 0\n",
    "    \n",
    "    def Showing_Time(put):\n",
    "        print(f\"It is showing time on {put.brand}\")\n",
    "    \n",
    "    def looking_fine(put):\n",
    "        print(f\"It is looking fine on {put.brand}\")\n",
    "    def getPrice(put):\n",
    "        print(f\"{put.brand} price is: {put.price}\")\n",
    "    def setPrice(put , newPrice):\n",
    "        put.price = newPrice"
   ]
  },
  {
   "cell_type": "code",
   "execution_count": 33,
   "metadata": {},
   "outputs": [],
   "source": [
    "Watch11 = watch (\"Red\" , \"sqaure\" , \"blue\" , \"digital\")\n",
    "Watch22 = watch (\"Red\" , \"sqaure\" , \"blue\" , \"classic\")"
   ]
  },
  {
   "cell_type": "code",
   "execution_count": 34,
   "metadata": {},
   "outputs": [
    {
     "data": {
      "text/plain": [
       "0"
      ]
     },
     "execution_count": 34,
     "metadata": {},
     "output_type": "execute_result"
    }
   ],
   "source": [
    "Watch11.price\n",
    "Watch22.price"
   ]
  },
  {
   "cell_type": "code",
   "execution_count": 35,
   "metadata": {},
   "outputs": [],
   "source": [
    "Watch11.setPrice(100)\n",
    "Watch22.setPrice(1000)"
   ]
  },
  {
   "cell_type": "code",
   "execution_count": 36,
   "metadata": {},
   "outputs": [
    {
     "name": "stdout",
     "output_type": "stream",
     "text": [
      "digital price is: 100\n",
      "classic price is: 1000\n"
     ]
    },
    {
     "data": {
      "text/plain": [
       "('Red', 'sqaure', 'blue', 'classic', None)"
      ]
     },
     "execution_count": 36,
     "metadata": {},
     "output_type": "execute_result"
    }
   ],
   "source": [
    "Watch11.color , Watch11.shape , Watch11.lights , Watch11.brand , Watch11.getPrice()\n",
    "\n",
    "Watch22.color , Watch22.shape , Watch22.lights , Watch22.brand , Watch22.getPrice()\n",
    "\n"
   ]
  },
  {
   "cell_type": "code",
   "execution_count": 38,
   "metadata": {},
   "outputs": [
    {
     "name": "stdout",
     "output_type": "stream",
     "text": [
      "digital\n",
      "Red sqaure blue\n",
      "digital price is: 100\n",
      "classic\n",
      "Red sqaure blue\n",
      "classic price is: 1000\n"
     ]
    }
   ],
   "source": [
    "print(Watch11.brand)\n",
    "\n",
    "print(Watch11.color , Watch11.shape , Watch11.lights)\n",
    "Watch11.getPrice()\n",
    "\n",
    "\n",
    "print(Watch22.brand)\n",
    "\n",
    "print(Watch22.color , Watch22.shape , Watch22.lights)\n",
    "Watch22.getPrice()\n",
    "\n"
   ]
  },
  {
   "cell_type": "markdown",
   "metadata": {},
   "source": [
    "# C.W"
   ]
  },
  {
   "cell_type": "code",
   "execution_count": 41,
   "metadata": {},
   "outputs": [],
   "source": [
    "albums=[]"
   ]
  },
  {
   "cell_type": "code",
   "execution_count": 42,
   "metadata": {},
   "outputs": [],
   "source": [
    "def make_album(artistName, albumTitle):\n",
    "    return {\"artist\":artistName,\"album\":albumTitle}"
   ]
  },
  {
   "cell_type": "code",
   "execution_count": 43,
   "metadata": {},
   "outputs": [],
   "source": [
    "albums.append(make_album(\"ArifLohar\",\"Chimti\"))\n",
    "albums.append(make_album(\"atifaslam\", \"yadien\"))"
   ]
  },
  {
   "cell_type": "code",
   "execution_count": 48,
   "metadata": {},
   "outputs": [
    {
     "data": {
      "text/plain": [
       "[{'artist': 'ArifLohar', 'album': 'Chimti'},\n",
       " {'artist': 'atifaslam', 'album': 'yadien'}]"
      ]
     },
     "execution_count": 48,
     "metadata": {},
     "output_type": "execute_result"
    }
   ],
   "source": [
    "albums"
   ]
  },
  {
   "cell_type": "code",
   "execution_count": 49,
   "metadata": {},
   "outputs": [
    {
     "name": "stdout",
     "output_type": "stream",
     "text": [
      "0\n",
      "1\n",
      "2\n",
      "3\n",
      "4\n",
      "5\n",
      "6\n",
      "7\n",
      "8\n",
      "9\n"
     ]
    }
   ],
   "source": [
    "for i in range(10):\n",
    "    print(i)"
   ]
  },
  {
   "cell_type": "code",
   "execution_count": 50,
   "metadata": {},
   "outputs": [
    {
     "name": "stdout",
     "output_type": "stream",
     "text": [
      "0\n",
      "1\n",
      "2\n",
      "3\n",
      "4\n",
      "5\n",
      "6\n",
      "7\n",
      "8\n",
      "9\n"
     ]
    }
   ],
   "source": [
    "var = 0\n",
    "while var < 10:\n",
    "    print(var)\n",
    "    var += 1"
   ]
  },
  {
   "cell_type": "code",
   "execution_count": 1,
   "metadata": {},
   "outputs": [
    {
     "name": "stdout",
     "output_type": "stream",
     "text": [
      "Enter your item here: mango\n",
      "Enter your item here: apple\n",
      "Enter your item here: honey\n",
      "Enter your item here: q\n",
      "['mango', 'apple', 'honey']\n"
     ]
    }
   ],
   "source": [
    "cart = []\n",
    "flag = True\n",
    "while flag:\n",
    "    items = input(\"Enter your item here: \")\n",
    "    if items == 'q':\n",
    "        flag = False\n",
    "    else:\n",
    "        cart.append(items)\n",
    "print(cart)\n",
    "        \n",
    "        "
   ]
  },
  {
   "cell_type": "code",
   "execution_count": 4,
   "metadata": {},
   "outputs": [
    {
     "name": "stdout",
     "output_type": "stream",
     "text": [
      "Enter your item here: mangoo\n",
      "Enter your item here: aplle\n",
      "Enter your item here: samsosa\n",
      "Enter your item here: q\n",
      "['mangoo', 'aplle', 'samsosa']\n"
     ]
    }
   ],
   "source": [
    "cart = []\n",
    "flag = True\n",
    "while flag:\n",
    "    items = input(\"Enter your item here: \")\n",
    "    if items == 'q':\n",
    "        flag = False\n",
    "        break\n",
    "    cart.append(items)\n",
    "print(cart)"
   ]
  },
  {
   "cell_type": "code",
   "execution_count": 5,
   "metadata": {},
   "outputs": [],
   "source": [
    "class Mobile():\n",
    "    def __init__(self, color, screen_size, battery_duration, brand):\n",
    "        self.color = color\n",
    "        self.screen_size = screen_size\n",
    "        self.battery_duration = battery_duration\n",
    "        self.brand = brand\n",
    "        \n",
    "    def receive_call(self):\n",
    "        print(f\"Call is Received Now on {self.brand}\")\n",
    "    \n",
    "    def dial_call(self):\n",
    "        print(f\"Call is Dialed Now on {self.brand}\")\n",
    "    \n",
    "    def write_message(self):\n",
    "        print(f\"Message has been Written on {self.brand}\")\n",
    "    \n",
    "    def read_message(self):\n",
    "        print(f\"Message has been Read on {self.brand}\") \n",
    "    \n",
    "    def send_message(self):\n",
    "        print(f\"Message is Sent on {self.brand}\")\n",
    "    \n",
    "    def play_game(self):\n",
    "        print(f\"Game is Launched on {self.brand}\")"
   ]
  },
  {
   "cell_type": "code",
   "execution_count": 6,
   "metadata": {},
   "outputs": [],
   "source": [
    "mobile1 = Mobile(\"Black\", \"5 inch\", \"8 hours\", \"Nokia\")"
   ]
  },
  {
   "cell_type": "code",
   "execution_count": 7,
   "metadata": {},
   "outputs": [
    {
     "data": {
      "text/plain": [
       "'8 hours'"
      ]
     },
     "execution_count": 7,
     "metadata": {},
     "output_type": "execute_result"
    }
   ],
   "source": [
    "mobile1.battery_duration"
   ]
  },
  {
   "cell_type": "code",
   "execution_count": 8,
   "metadata": {},
   "outputs": [],
   "source": [
    "class Mobile():\n",
    "    def __init__(self, color, battery_duration, brand):\n",
    "        self.color = color\n",
    "        self.battery_duration = battery_duration\n",
    "        self.brand = brand\n",
    "        self.price = 0\n",
    "    def receive_call(self):\n",
    "        print(f\"Call is Received Now on {self.brand}\")    \n",
    "    def dial_call(self):\n",
    "        print(f\"Call is Dialed Now on {self.brand}\")    \n",
    "    def getPrice(self):\n",
    "        print(f\"{self.brand} price is: {self.price}\")    \n",
    "    def setPrice(self, newPrice):\n",
    "        self.price =newPrice        "
   ]
  },
  {
   "cell_type": "code",
   "execution_count": 9,
   "metadata": {},
   "outputs": [],
   "source": [
    "m1 = Mobile(\"Silver\",\"2H\", \"OPPO\")\n",
    "m11 = Mobile(\"Silver\",\"2H\", \"VEVO\")"
   ]
  },
  {
   "cell_type": "code",
   "execution_count": 10,
   "metadata": {},
   "outputs": [],
   "source": [
    "m1.price = 100"
   ]
  },
  {
   "cell_type": "code",
   "execution_count": 11,
   "metadata": {},
   "outputs": [
    {
     "data": {
      "text/plain": [
       "100"
      ]
     },
     "execution_count": 11,
     "metadata": {},
     "output_type": "execute_result"
    }
   ],
   "source": [
    "m1.price"
   ]
  },
  {
   "cell_type": "code",
   "execution_count": 12,
   "metadata": {},
   "outputs": [
    {
     "data": {
      "text/plain": [
       "0"
      ]
     },
     "execution_count": 12,
     "metadata": {},
     "output_type": "execute_result"
    }
   ],
   "source": [
    "m11.price"
   ]
  },
  {
   "cell_type": "code",
   "execution_count": 13,
   "metadata": {},
   "outputs": [
    {
     "name": "stdout",
     "output_type": "stream",
     "text": [
      "VEVO price is: 1000\n"
     ]
    }
   ],
   "source": [
    "m11.setPrice(1000)\n",
    "m11.getPrice()"
   ]
  },
  {
   "cell_type": "code",
   "execution_count": 16,
   "metadata": {},
   "outputs": [
    {
     "name": "stdout",
     "output_type": "stream",
     "text": [
      "OPPO price is: 100\n"
     ]
    }
   ],
   "source": [
    "m1.getPrice()"
   ]
  },
  {
   "cell_type": "code",
   "execution_count": 20,
   "metadata": {},
   "outputs": [],
   "source": [
    "m1.setPrice(5000)\n",
    "m11.setPrice(100000)"
   ]
  },
  {
   "cell_type": "code",
   "execution_count": 21,
   "metadata": {},
   "outputs": [
    {
     "name": "stdout",
     "output_type": "stream",
     "text": [
      "OPPO price is: 5000\n",
      "VEVO price is: 100000\n"
     ]
    }
   ],
   "source": [
    "m1.getPrice()\n",
    "m11.getPrice()"
   ]
  },
  {
   "cell_type": "code",
   "execution_count": 17,
   "metadata": {},
   "outputs": [],
   "source": [
    "class Car():\n",
    "    def __init__(self , company , model , year):\n",
    "        self.company = company\n",
    "        self.model = model\n",
    "        self.year = year\n",
    "        \n",
    "    def full_name(self):\n",
    "        print(f\"Your car name is {self.company} {self.model} of {self.year}\")"
   ]
  },
  {
   "cell_type": "code",
   "execution_count": 18,
   "metadata": {},
   "outputs": [],
   "source": [
    "car1 = Car(\"Suzuki\" , \"Cultus\", \"2017\")"
   ]
  },
  {
   "cell_type": "code",
   "execution_count": 23,
   "metadata": {},
   "outputs": [
    {
     "data": {
      "text/plain": [
       "'Suzuki'"
      ]
     },
     "execution_count": 23,
     "metadata": {},
     "output_type": "execute_result"
    }
   ],
   "source": [
    "car1.company"
   ]
  },
  {
   "cell_type": "code",
   "execution_count": 24,
   "metadata": {},
   "outputs": [
    {
     "data": {
      "text/plain": [
       "'Cultus'"
      ]
     },
     "execution_count": 24,
     "metadata": {},
     "output_type": "execute_result"
    }
   ],
   "source": [
    "car1.model"
   ]
  },
  {
   "cell_type": "code",
   "execution_count": 26,
   "metadata": {},
   "outputs": [
    {
     "name": "stdout",
     "output_type": "stream",
     "text": [
      "Your car name is Suzuki Cultus of 2017\n"
     ]
    }
   ],
   "source": [
    "car1.full_name()"
   ]
  },
  {
   "cell_type": "code",
   "execution_count": 27,
   "metadata": {},
   "outputs": [],
   "source": [
    "car2 = Car(\"Honda\",\"civic\",\"2018\")"
   ]
  },
  {
   "cell_type": "code",
   "execution_count": 28,
   "metadata": {},
   "outputs": [
    {
     "data": {
      "text/plain": [
       "'Honda'"
      ]
     },
     "execution_count": 28,
     "metadata": {},
     "output_type": "execute_result"
    }
   ],
   "source": [
    "car2.company"
   ]
  },
  {
   "cell_type": "code",
   "execution_count": 30,
   "metadata": {},
   "outputs": [
    {
     "name": "stdout",
     "output_type": "stream",
     "text": [
      "Your car name is Honda civic of 2018\n"
     ]
    }
   ],
   "source": [
    "car2.full_name()"
   ]
  },
  {
   "cell_type": "code",
   "execution_count": null,
   "metadata": {},
   "outputs": [],
   "source": []
  }
 ],
 "metadata": {
  "kernelspec": {
   "display_name": "Python 3",
   "language": "python",
   "name": "python3"
  },
  "language_info": {
   "codemirror_mode": {
    "name": "ipython",
    "version": 3
   },
   "file_extension": ".py",
   "mimetype": "text/x-python",
   "name": "python",
   "nbconvert_exporter": "python",
   "pygments_lexer": "ipython3",
   "version": "3.7.3"
  }
 },
 "nbformat": 4,
 "nbformat_minor": 2
}

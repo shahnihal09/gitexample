{
 "cells": [
  {
   "cell_type": "code",
   "execution_count": null,
   "metadata": {},
   "outputs": [],
   "source": [
    "city_0 = 'Karachi'\n",
    "city_1 = 'Lahore'\n",
    "city_2 = 'Islamabad'\n",
    "\n",
    "#list \n",
    "\n",
    "cities = ['Karachi','Lahore','Islamabad']"
   ]
  },
  {
   "cell_type": "code",
   "execution_count": null,
   "metadata": {},
   "outputs": [],
   "source": [
    "cities"
   ]
  },
  {
   "cell_type": "code",
   "execution_count": null,
   "metadata": {},
   "outputs": [],
   "source": [
    "len(cities) # no. of members"
   ]
  },
  {
   "cell_type": "code",
   "execution_count": null,
   "metadata": {},
   "outputs": [],
   "source": [
    "#indexing:\n",
    "cities = ['Karachi','Lahore','Islamabad']\n",
    "# index no : 0         1          2"
   ]
  },
  {
   "cell_type": "code",
   "execution_count": null,
   "metadata": {},
   "outputs": [],
   "source": [
    "cities[0]"
   ]
  },
  {
   "cell_type": "code",
   "execution_count": null,
   "metadata": {},
   "outputs": [],
   "source": [
    "cities[3]"
   ]
  },
  {
   "cell_type": "code",
   "execution_count": null,
   "metadata": {},
   "outputs": [],
   "source": [
    "cities[2]"
   ]
  },
  {
   "cell_type": "code",
   "execution_count": null,
   "metadata": {},
   "outputs": [],
   "source": [
    "mix = ['str',7,5.0,True]\n",
    "mix"
   ]
  },
  {
   "cell_type": "code",
   "execution_count": null,
   "metadata": {},
   "outputs": [],
   "source": [
    "type(mix)"
   ]
  },
  {
   "cell_type": "code",
   "execution_count": null,
   "metadata": {},
   "outputs": [],
   "source": [
    "listinlist = [mix,cities]\n",
    "listinlist"
   ]
  },
  {
   "cell_type": "code",
   "execution_count": null,
   "metadata": {},
   "outputs": [],
   "source": [
    "listinlist[1][1]"
   ]
  },
  {
   "cell_type": "code",
   "execution_count": null,
   "metadata": {},
   "outputs": [],
   "source": [
    "listinlist[1][2]"
   ]
  },
  {
   "cell_type": "code",
   "execution_count": null,
   "metadata": {},
   "outputs": [],
   "source": [
    "#Small assignment\n",
    "#combinations\n",
    "#get 1st list's second item\n",
    "#get Karachi\n",
    "# get\n"
   ]
  },
  {
   "cell_type": "code",
   "execution_count": null,
   "metadata": {},
   "outputs": [],
   "source": [
    "mix"
   ]
  },
  {
   "cell_type": "code",
   "execution_count": null,
   "metadata": {},
   "outputs": [],
   "source": [
    "del mix[2]\n",
    "mix"
   ]
  },
  {
   "cell_type": "code",
   "execution_count": null,
   "metadata": {},
   "outputs": [],
   "source": [
    "mix[1]"
   ]
  },
  {
   "cell_type": "code",
   "execution_count": null,
   "metadata": {},
   "outputs": [],
   "source": [
    "mix.remove(7)\n",
    "mix"
   ]
  },
  {
   "cell_type": "code",
   "execution_count": null,
   "metadata": {},
   "outputs": [],
   "source": [
    "mix = ['str',8, 7,6.0,True,7]\n",
    "mix.remove(7)\n",
    "mix"
   ]
  },
  {
   "cell_type": "code",
   "execution_count": null,
   "metadata": {},
   "outputs": [],
   "source": [
    "#signature - function's defination\n",
    "\n",
    "# ShiFT + TAB"
   ]
  },
  {
   "cell_type": "code",
   "execution_count": null,
   "metadata": {},
   "outputs": [],
   "source": [
    "l1= ['a','b']"
   ]
  },
  {
   "cell_type": "code",
   "execution_count": null,
   "metadata": {},
   "outputs": [],
   "source": [
    "del l1[0]\n",
    "l1"
   ]
  },
  {
   "cell_type": "code",
   "execution_count": null,
   "metadata": {},
   "outputs": [],
   "source": [
    "l1"
   ]
  },
  {
   "cell_type": "code",
   "execution_count": null,
   "metadata": {},
   "outputs": [],
   "source": [
    "faculty = ['Hamza','Ali']"
   ]
  },
  {
   "cell_type": "code",
   "execution_count": null,
   "metadata": {},
   "outputs": [],
   "source": [
    "faculty.append('Shahzad')     # append adds the value from the very last"
   ]
  },
  {
   "cell_type": "code",
   "execution_count": null,
   "metadata": {},
   "outputs": [],
   "source": [
    "faculty"
   ]
  },
  {
   "cell_type": "code",
   "execution_count": null,
   "metadata": {},
   "outputs": [],
   "source": [
    "faculty.append('Mohsin')\n",
    "faculty"
   ]
  },
  {
   "cell_type": "code",
   "execution_count": null,
   "metadata": {},
   "outputs": [],
   "source": [
    "# To add a value with your will\n",
    "faculty.insert(0, 'Sir')\n",
    "faculty"
   ]
  },
  {
   "cell_type": "code",
   "execution_count": null,
   "metadata": {},
   "outputs": [],
   "source": [
    "del faculty[0]\n",
    "faculty"
   ]
  },
  {
   "cell_type": "code",
   "execution_count": null,
   "metadata": {},
   "outputs": [],
   "source": [
    "faculty.insert(16,74)\n",
    "faculty"
   ]
  },
  {
   "cell_type": "code",
   "execution_count": null,
   "metadata": {},
   "outputs": [],
   "source": [
    "faculty[2] = 'M. Ali'\n",
    "faculty"
   ]
  },
  {
   "cell_type": "code",
   "execution_count": null,
   "metadata": {},
   "outputs": [],
   "source": [
    "faculty.index('Hamza')       # to find a index of a particular member"
   ]
  },
  {
   "cell_type": "code",
   "execution_count": null,
   "metadata": {},
   "outputs": [],
   "source": [
    "numbers = [4,2,5,3,1]\n",
    "numbers.sort()\n",
    "numbers"
   ]
  },
  {
   "cell_type": "markdown",
   "metadata": {},
   "source": []
  },
  {
   "cell_type": "code",
   "execution_count": null,
   "metadata": {},
   "outputs": [],
   "source": [
    "numbers.sort(reverse=True)\n",
    "numbers"
   ]
  },
  {
   "cell_type": "code",
   "execution_count": null,
   "metadata": {},
   "outputs": [],
   "source": [
    "alphabet = ['a','d','b','c','z']\n",
    "alphabet.sort()"
   ]
  },
  {
   "cell_type": "code",
   "execution_count": null,
   "metadata": {},
   "outputs": [],
   "source": [
    "alphabet"
   ]
  },
  {
   "cell_type": "code",
   "execution_count": null,
   "metadata": {},
   "outputs": [],
   "source": [
    "alphabet.sort(reverse=True)\n",
    "alphabet"
   ]
  },
  {
   "cell_type": "code",
   "execution_count": null,
   "metadata": {},
   "outputs": [],
   "source": [
    "alphabet.sort(reverse=False)\n",
    "alphabet"
   ]
  },
  {
   "cell_type": "code",
   "execution_count": null,
   "metadata": {},
   "outputs": [],
   "source": [
    "mix2 = [1,3,5,'a',2,'c',4,'b']\n",
    "mix2.sort()"
   ]
  },
  {
   "cell_type": "code",
   "execution_count": null,
   "metadata": {},
   "outputs": [],
   "source": [
    "# to remove from one list and add it to other list\n",
    "l1 =['st1','st2','st3','st4']\n",
    "l=l1.pop()   # to dlete last element from list and hand add it to any  other vaariable\n",
    "l\n",
    "\n",
    "l=l1.pop(1)    \n",
    "l"
   ]
  },
  {
   "cell_type": "code",
   "execution_count": null,
   "metadata": {},
   "outputs": [],
   "source": []
  },
  {
   "cell_type": "markdown",
   "metadata": {},
   "source": [
    "\n",
    "# Slicing\n"
   ]
  },
  {
   "cell_type": "code",
   "execution_count": null,
   "metadata": {},
   "outputs": [],
   "source": [
    "numbers = [1,2,3,4,5,6,7,8,9,10]        # to get a bundle of numbrs\n",
    "#index no  0 1 2 3 4 5 6 7 8 9\n",
    "# numbers[ start : end ]     ending point is less then 1\n",
    "numbers"
   ]
  },
  {
   "cell_type": "code",
   "execution_count": null,
   "metadata": {},
   "outputs": [],
   "source": [
    "new_num = numbers[1:3]\n",
    "new_num"
   ]
  },
  {
   "cell_type": "code",
   "execution_count": null,
   "metadata": {},
   "outputs": [],
   "source": [
    "numbers"
   ]
  },
  {
   "cell_type": "code",
   "execution_count": null,
   "metadata": {},
   "outputs": [],
   "source": [
    "new_num2 = numbers[4:8]\n",
    "new_num2"
   ]
  },
  {
   "cell_type": "code",
   "execution_count": null,
   "metadata": {},
   "outputs": [],
   "source": [
    "alphanumeric = ['a',1,'b',2]\n",
    "alphanumeric"
   ]
  },
  {
   "cell_type": "code",
   "execution_count": null,
   "metadata": {},
   "outputs": [],
   "source": [
    "alphanumeric[1:3]"
   ]
  },
  {
   "cell_type": "code",
   "execution_count": null,
   "metadata": {},
   "outputs": [],
   "source": [
    "# Even Odd assignment\n",
    "\n",
    "\n",
    "\n",
    "\n"
   ]
  },
  {
   "cell_type": "code",
   "execution_count": null,
   "metadata": {},
   "outputs": [],
   "source": [
    "list1 = numbers.copy()\n",
    "list1"
   ]
  },
  {
   "cell_type": "code",
   "execution_count": null,
   "metadata": {},
   "outputs": [],
   "source": [
    "list1[-1]"
   ]
  },
  {
   "cell_type": "code",
   "execution_count": null,
   "metadata": {},
   "outputs": [],
   "source": [
    "list1[-2]"
   ]
  },
  {
   "cell_type": "code",
   "execution_count": null,
   "metadata": {},
   "outputs": [],
   "source": [
    "list1= [1,2,3,4,5,6,7,8,9,10]\n",
    "#index  0,1,2,3,4,5,6,7,8,9\n",
    "#-index -8,-7,-6,-5,-4,-3,-2,-1"
   ]
  },
  {
   "cell_type": "code",
   "execution_count": null,
   "metadata": {},
   "outputs": [],
   "source": [
    "list1[4:2]    # will not raise error but show empty box bec it will not work in oppssite way "
   ]
  },
  {
   "cell_type": "code",
   "execution_count": null,
   "metadata": {},
   "outputs": [],
   "source": [
    "list1[-3:-1]"
   ]
  },
  {
   "cell_type": "code",
   "execution_count": null,
   "metadata": {},
   "outputs": [],
   "source": [
    "list1[-3:3]"
   ]
  },
  {
   "cell_type": "code",
   "execution_count": null,
   "metadata": {},
   "outputs": [],
   "source": [
    "list1[-7:1]"
   ]
  },
  {
   "cell_type": "code",
   "execution_count": null,
   "metadata": {},
   "outputs": [],
   "source": [
    "height_in_cm = float(input(\"Enter your Height in Cm here : \"))\n",
    "weight = float(input(\"Enter your weightt in Kg here : \"))\n",
    "height_in_m = height_in_cm / 100\n",
    "bmi = weight/height_in_m**2\n",
    "\n",
    "print('That categorization is the subject of some debate about where on the BMI scale the dividing lines between categories should be placed.')\n",
    "print(\"\"\"Commonly accepted BMI ranges are:\n",
    "\n",
    "underweight: Under 18.5 kg/m2\n",
    "\n",
    "Normal weight: 18.5 to 25\n",
    "\n",
    "Overweight: 25 to 30\n",
    "\n",
    "Obese: over 30\"\"\")\n",
    "\n",
    "if bmi <= 18.5:\n",
    "    print('Your BMI scale is ' + str(bmi) + ' This is Underweight.')\n",
    "    print('Underweight. ... An underweight person is a type of person whose body weight is considered too low to be healthy. Underweight people have a body mass index (BMI) of under 18.5 or a weight 15% to 20% below that normal for their age and height group.')\n",
    "elif bmi  <= 25:\n",
    "    print('Your BMI scale is ' + str(bmi) + ' This is Normal.')\n",
    "    print(\"The body mass index (BMI) is a measure that uses your height and weight to work out if your weight is healthy. The BMI calculation divides an adult's weight in kilograms by their height in metres squared. For example, A BMI of 25 means 25kg/m2\")\n",
    "else:\n",
    "    print('Your BMI scale is ' + str(bmi) + ' This is Obese.')\n",
    "\n",
    "    print('''\n",
    "Obesity is a medical condition in which excess body fat has accumulated to the extent that it may have an adverse effect on health. It is defined by body mass index (BMI) and further evaluated in terms of fat distribution via the waist–hip ratio and total cardiovascular risk factors.\n",
    "\n",
    "Complications: Cardiovascular diseases, type 2\n",
    "\n",
    "Diagnostic method: BMI > 30 kg/m2\n",
    "\n",
    "Symptoms: Increased fat\n",
    "\n",
    "Treatment: Diet, exercise, medications, surgery''')\n"
   ]
  },
  {
   "cell_type": "markdown",
   "metadata": {},
   "source": [
    "# Tuples\n"
   ]
  },
  {
   "cell_type": "code",
   "execution_count": null,
   "metadata": {},
   "outputs": [],
   "source": [
    "tup =(1,2,3)       #tuple me append nh hota"
   ]
  },
  {
   "cell_type": "code",
   "execution_count": null,
   "metadata": {},
   "outputs": [],
   "source": [
    "tup"
   ]
  },
  {
   "cell_type": "code",
   "execution_count": null,
   "metadata": {},
   "outputs": [],
   "source": [
    "type(tup)"
   ]
  },
  {
   "cell_type": "code",
   "execution_count": null,
   "metadata": {},
   "outputs": [],
   "source": [
    "print(tup)"
   ]
  },
  {
   "cell_type": "code",
   "execution_count": null,
   "metadata": {},
   "outputs": [],
   "source": [
    "print(type(tup))"
   ]
  },
  {
   "cell_type": "code",
   "execution_count": null,
   "metadata": {},
   "outputs": [],
   "source": [
    "tup1 = ('a',1,1.5,True)"
   ]
  },
  {
   "cell_type": "code",
   "execution_count": null,
   "metadata": {},
   "outputs": [],
   "source": [
    "tup1"
   ]
  },
  {
   "cell_type": "code",
   "execution_count": null,
   "metadata": {},
   "outputs": [],
   "source": [
    "tup1[1]"
   ]
  },
  {
   "cell_type": "code",
   "execution_count": null,
   "metadata": {},
   "outputs": [],
   "source": [
    "tup1[0]"
   ]
  },
  {
   "cell_type": "code",
   "execution_count": null,
   "metadata": {},
   "outputs": [],
   "source": [
    "tup1[1:3]"
   ]
  },
  {
   "cell_type": "code",
   "execution_count": null,
   "metadata": {},
   "outputs": [],
   "source": [
    "tup1 = 'a',1,1.5,True"
   ]
  },
  {
   "cell_type": "code",
   "execution_count": null,
   "metadata": {},
   "outputs": [],
   "source": [
    "tup1"
   ]
  },
  {
   "cell_type": "code",
   "execution_count": null,
   "metadata": {},
   "outputs": [],
   "source": [
    "friends = ['humza','tayab','dawood']"
   ]
  },
  {
   "cell_type": "code",
   "execution_count": null,
   "metadata": {},
   "outputs": [],
   "source": [
    "friends.append('abdullah')"
   ]
  },
  {
   "cell_type": "code",
   "execution_count": null,
   "metadata": {},
   "outputs": [],
   "source": [
    "friends"
   ]
  },
  {
   "cell_type": "code",
   "execution_count": null,
   "metadata": {},
   "outputs": [],
   "source": [
    "friends"
   ]
  },
  {
   "cell_type": "code",
   "execution_count": null,
   "metadata": {},
   "outputs": [],
   "source": [
    "friends.remove('abdullah')"
   ]
  },
  {
   "cell_type": "code",
   "execution_count": null,
   "metadata": {},
   "outputs": [],
   "source": [
    "friends"
   ]
  },
  {
   "cell_type": "code",
   "execution_count": null,
   "metadata": {},
   "outputs": [],
   "source": [
    "best_friend =[]"
   ]
  },
  {
   "cell_type": "code",
   "execution_count": null,
   "metadata": {},
   "outputs": [],
   "source": [
    "friends.pop(0)"
   ]
  },
  {
   "cell_type": "code",
   "execution_count": null,
   "metadata": {},
   "outputs": [],
   "source": [
    "friends"
   ]
  },
  {
   "cell_type": "code",
   "execution_count": null,
   "metadata": {},
   "outputs": [],
   "source": [
    "best_friend"
   ]
  },
  {
   "cell_type": "code",
   "execution_count": null,
   "metadata": {},
   "outputs": [],
   "source": [
    "friends.append('humza')"
   ]
  },
  {
   "cell_type": "code",
   "execution_count": null,
   "metadata": {},
   "outputs": [],
   "source": [
    "friends"
   ]
  },
  {
   "cell_type": "code",
   "execution_count": null,
   "metadata": {},
   "outputs": [],
   "source": [
    "best_friend.append(friends.pop(2))"
   ]
  },
  {
   "cell_type": "code",
   "execution_count": null,
   "metadata": {},
   "outputs": [],
   "source": [
    "best_friend"
   ]
  },
  {
   "cell_type": "code",
   "execution_count": null,
   "metadata": {},
   "outputs": [],
   "source": [
    "my_tuple = ('Ahsan', 21 , 21.45 , True)"
   ]
  },
  {
   "cell_type": "code",
   "execution_count": null,
   "metadata": {},
   "outputs": [],
   "source": [
    "my_tuple[2]"
   ]
  },
  {
   "cell_type": "code",
   "execution_count": null,
   "metadata": {},
   "outputs": [],
   "source": [
    "slice_value = my_tuple[1:4]"
   ]
  },
  {
   "cell_type": "code",
   "execution_count": null,
   "metadata": {},
   "outputs": [],
   "source": [
    "slice_value"
   ]
  },
  {
   "cell_type": "code",
   "execution_count": null,
   "metadata": {},
   "outputs": [],
   "source": [
    "my_tuple"
   ]
  },
  {
   "cell_type": "code",
   "execution_count": null,
   "metadata": {},
   "outputs": [],
   "source": [
    "del my_tuple[0]      #tuple me se kuch delete nh kar sakte / append b nh hoskta"
   ]
  },
  {
   "cell_type": "code",
   "execution_count": null,
   "metadata": {},
   "outputs": [],
   "source": [
    "new_tuple = (1,2,3,4,5,6,7.89,8.6)"
   ]
  },
  {
   "cell_type": "code",
   "execution_count": null,
   "metadata": {},
   "outputs": [],
   "source": [
    "new_tuple.index(8.6)    #index bata dia "
   ]
  },
  {
   "cell_type": "code",
   "execution_count": null,
   "metadata": {},
   "outputs": [],
   "source": [
    "dost = ('Ali', 'Humza', 'Khan', 'Mohsin', 'Humza')\n",
    "dost.index(\"Humza\")"
   ]
  },
  {
   "cell_type": "code",
   "execution_count": null,
   "metadata": {},
   "outputs": [],
   "source": [
    "dost = ('Ali', 'Humza', 'Khan', 'Mohsin', 'Humza')\n",
    "dost.index(\"Humza\",3)"
   ]
  },
  {
   "cell_type": "markdown",
   "metadata": {},
   "source": [
    "# dost = ('Ali', 'Humza', 'Khan', 'Mohsin', 'Humza')\n",
    "dost.index(\"Shezi\")"
   ]
  },
  {
   "cell_type": "code",
   "execution_count": null,
   "metadata": {},
   "outputs": [],
   "source": [
    "dost.index(\"Humza\",3)"
   ]
  },
  {
   "cell_type": "code",
   "execution_count": null,
   "metadata": {},
   "outputs": [],
   "source": [
    "numbers = (1 , 2 , 2 , 3 , 4 , 5, 6 , 1 , 5 , 3  , 2 , 2)\n",
    "numbers.count(2)         #mode batyega ktni bar hy value"
   ]
  },
  {
   "cell_type": "code",
   "execution_count": null,
   "metadata": {},
   "outputs": [],
   "source": [
    "numbers.count(123)"
   ]
  },
  {
   "cell_type": "markdown",
   "metadata": {},
   "source": [
    "# Loops"
   ]
  },
  {
   "cell_type": "markdown",
   "metadata": {},
   "source": [
    "# for loop"
   ]
  },
  {
   "cell_type": "code",
   "execution_count": null,
   "metadata": {},
   "outputs": [],
   "source": [
    "my_numbers = [1,2,3,4,6,8,10]\n",
    "for number in my_numbers:           #for k loop se list k element oth k variable me ajayenge\n",
    "    mult = number * 2\n",
    "    print(mult)"
   ]
  },
  {
   "cell_type": "code",
   "execution_count": null,
   "metadata": {},
   "outputs": [],
   "source": [
    "name1 = ['Ali' , \"umer\" , 'Ahsan' , \"nasir\"]\n",
    "for name2 in name1:\n",
    "    print(name2)"
   ]
  },
  {
   "cell_type": "code",
   "execution_count": null,
   "metadata": {},
   "outputs": [],
   "source": [
    "# 2 X 1 = 2\n"
   ]
  },
  {
   "cell_type": "code",
   "execution_count": null,
   "metadata": {},
   "outputs": [],
   "source": [
    "for i in range(11):\n",
    "    print(i,\"Pakistan Zindabad\")"
   ]
  },
  {
   "cell_type": "code",
   "execution_count": null,
   "metadata": {},
   "outputs": [],
   "source": [
    "for a in range(1,11):\n",
    "    print(a , \"PIAIC\")"
   ]
  },
  {
   "cell_type": "code",
   "execution_count": null,
   "metadata": {},
   "outputs": [],
   "source": [
    "for z in range(1,11,1):       #step le rha ha \n",
    "    print(z)"
   ]
  },
  {
   "cell_type": "code",
   "execution_count": null,
   "metadata": {},
   "outputs": [],
   "source": [
    "for b in range(1,11,2):\n",
    "    print(b)"
   ]
  },
  {
   "cell_type": "code",
   "execution_count": null,
   "metadata": {},
   "outputs": [],
   "source": [
    "for r in range(10,0,-1):  #decending order\n",
    "    print(r)"
   ]
  },
  {
   "cell_type": "code",
   "execution_count": null,
   "metadata": {},
   "outputs": [],
   "source": [
    "#by default be behavior print ka end='/'\n",
    "# for line end=\" \"\n",
    "for r in range(10,0,-1):\n",
    "    print(r,end=\" \")"
   ]
  },
  {
   "cell_type": "markdown",
   "metadata": {},
   "source": [
    "# Print formating"
   ]
  },
  {
   "cell_type": "code",
   "execution_count": null,
   "metadata": {},
   "outputs": [],
   "source": [
    "#for space or TAB in print use end=\" \\t\"     escape characters\n",
    "#print ka by default behavior , hy space k liye \n",
    "print('asad','ali','humza')"
   ]
  },
  {
   "cell_type": "code",
   "execution_count": null,
   "metadata": {},
   "outputs": [],
   "source": [
    "print('asad','ali','humza', sep=\"***\")"
   ]
  },
  {
   "cell_type": "code",
   "execution_count": null,
   "metadata": {},
   "outputs": [],
   "source": [
    "print('asad','ali','humza', sep=\"====\")"
   ]
  },
  {
   "cell_type": "code",
   "execution_count": null,
   "metadata": {},
   "outputs": [],
   "source": [
    "name = \"Nehal\"\n",
    "age = 26\n",
    "print(\"My name is and my age is\")"
   ]
  },
  {
   "cell_type": "code",
   "execution_count": null,
   "metadata": {},
   "outputs": [],
   "source": [
    "name = \"Nehal\"\n",
    "age = \"26\"\n",
    "print(\"My name is \"+ name + \"and my age is \"+ age)"
   ]
  },
  {
   "cell_type": "code",
   "execution_count": null,
   "metadata": {},
   "outputs": [],
   "source": [
    "name = \"Nehal\"\n",
    "age = \"26\"\n",
    "print(\"My name is {} and my age is {}\".format(name,age))"
   ]
  },
  {
   "cell_type": "code",
   "execution_count": null,
   "metadata": {},
   "outputs": [],
   "source": [
    "name = \"Nehal\"\n",
    "age = \"26\"\n",
    "print(\"My name is {0} and my age is {1}\".format(name,age))"
   ]
  },
  {
   "cell_type": "code",
   "execution_count": null,
   "metadata": {},
   "outputs": [],
   "source": [
    "name = \"Nehal\"\n",
    "age = 26\n",
    "print(\"My name is {} and my age is {}\".format(name,age))"
   ]
  },
  {
   "cell_type": "code",
   "execution_count": null,
   "metadata": {},
   "outputs": [],
   "source": [
    "name = \"Nehal\"\n",
    "age = \"26\"\n",
    "print(f\"My name is {name} and my age is {age}\")"
   ]
  },
  {
   "cell_type": "code",
   "execution_count": null,
   "metadata": {},
   "outputs": [],
   "source": [
    "name = \"Nehal\"\n",
    "age = 26\n",
    "print(f\"My name is {name} and my age is {age}\")"
   ]
  },
  {
   "cell_type": "code",
   "execution_count": null,
   "metadata": {},
   "outputs": [],
   "source": [
    "table = int(input(\"Enter your table number\"))\n",
    "for nums in range(1,11):\n",
    "    print(table*nums)"
   ]
  },
  {
   "cell_type": "code",
   "execution_count": null,
   "metadata": {},
   "outputs": [],
   "source": [
    "table = int(input(\"Enter your table number\"))\n",
    "for nums in range(1,11):\n",
    "    print(f\"{table}* {nums} = {table*nums}\")"
   ]
  },
  {
   "cell_type": "code",
   "execution_count": null,
   "metadata": {},
   "outputs": [],
   "source": [
    " #break , continue , pass"
   ]
  },
  {
   "cell_type": "code",
   "execution_count": null,
   "metadata": {},
   "outputs": [],
   "source": [
    "table = int(input(\"Enter your table number\"))\n",
    "for nums in range(1,11):\n",
    "    if nums == 3:\n",
    "        break\n",
    "    print(f\"{table}* {nums} = {table*nums}\")"
   ]
  },
  {
   "cell_type": "code",
   "execution_count": null,
   "metadata": {},
   "outputs": [],
   "source": [
    "table = int(input(\"Enter your table number\"))\n",
    "for nums in range(1,11,2):\n",
    "    if nums == 3:\n",
    "        break\n",
    "    print(f\"{table}* {nums} = {table*nums}\")"
   ]
  },
  {
   "cell_type": "code",
   "execution_count": null,
   "metadata": {},
   "outputs": [],
   "source": [
    "table = int(input(\"Enter your table number\"))\n",
    "for nums in range(1,11):\n",
    "    if nums == 3:\n",
    "        continue\n",
    "    print(f\"{table}* {nums} = {table*nums}\")"
   ]
  },
  {
   "cell_type": "code",
   "execution_count": null,
   "metadata": {},
   "outputs": [],
   "source": [
    "table = int(input(\"Enter your table number\"))\n",
    "for nums in range(1,11):\n",
    "    if nums == 3:\n",
    "        pass\n",
    "    print(f\"{table}* {nums} = {table*nums}\")"
   ]
  },
  {
   "cell_type": "code",
   "execution_count": null,
   "metadata": {},
   "outputs": [],
   "source": [
    "table = int(input(\"Enter your table number\"))\n",
    "for nums in range(1,11):\n",
    "    if nums == 3:\n",
    "        break\n",
    "    print(f\"{table}* {nums} = {table*nums}\")"
   ]
  },
  {
   "cell_type": "code",
   "execution_count": null,
   "metadata": {},
   "outputs": [],
   "source": [
    "table = int(input(\"Enter your table number\"))\n",
    "for nums in range(1,11):\n",
    "    if nums == 3:\n",
    "        continue\n",
    "    print(f\"{table}* {nums} = {table*nums}\")"
   ]
  },
  {
   "cell_type": "code",
   "execution_count": null,
   "metadata": {},
   "outputs": [],
   "source": [
    "table = int(input(\"Enter your table number\"))\n",
    "for nums in range(1,11):\n",
    "    if nums == 3:\n",
    "        pass\n",
    "    print(f\"{table}* {nums} = {table*nums}\")"
   ]
  },
  {
   "cell_type": "code",
   "execution_count": null,
   "metadata": {},
   "outputs": [],
   "source": [
    "table = int(input(\"Enter your table number\"))\n",
    "for nums in range(0,11):\n",
    "    if nums == 3:\n",
    "        break\n",
    "    print(f\"{table}* {nums} = {table*nums}\")"
   ]
  },
  {
   "cell_type": "code",
   "execution_count": null,
   "metadata": {},
   "outputs": [],
   "source": [
    "table = int(input(\"Enter your table number\"))\n",
    "for nums in range(0,11):\n",
    "    if nums == 3:\n",
    "        continue\n",
    "    print(f\"{table}* {nums} = {table*nums}\")"
   ]
  },
  {
   "cell_type": "code",
   "execution_count": null,
   "metadata": {},
   "outputs": [],
   "source": [
    "Friend_list = ['Ali', 'Humza', 'Khan', 'Shezi']\n",
    "for Friend in Friend_list:\n",
    "    if Friend != 'Khan':\n",
    "        print(\"Party Enjoy\")\n",
    "    else:\n",
    "        print(\"Bhag Abba Agae\")"
   ]
  },
  {
   "cell_type": "code",
   "execution_count": null,
   "metadata": {},
   "outputs": [],
   "source": [
    "Friend_list = ['Ali', 'Humza', 'Khan', 'Shezi']\n",
    "for Friend in Friend_list:\n",
    "    if Friend != 'Khan':\n",
    "        print(\"Party Enjoy\")\n",
    "    else:\n",
    "        print(\"Bhag Abba Agae\")\n",
    "        break"
   ]
  },
  {
   "cell_type": "code",
   "execution_count": null,
   "metadata": {},
   "outputs": [],
   "source": [
    "for a in range(10):\n"
   ]
  },
  {
   "cell_type": "code",
   "execution_count": null,
   "metadata": {},
   "outputs": [],
   "source": [
    "for a in range(10):     #pass error nh ane dega program excute karega\n",
    "    pass"
   ]
  },
  {
   "cell_type": "markdown",
   "metadata": {},
   "source": [
    "# Nested Loop\n",
    "\n",
    "#for Nested loops"
   ]
  },
  {
   "cell_type": "code",
   "execution_count": null,
   "metadata": {},
   "outputs": [],
   "source": [
    "#nested means ek k ander ek chez phir further further  (inner loop outer loop pe depend ho)"
   ]
  },
  {
   "cell_type": "code",
   "execution_count": null,
   "metadata": {},
   "outputs": [],
   "source": [
    "for a in range(10):\n",
    "    print(a)\n",
    "for b in ['a','b','c','v']:\n",
    "    print(a,b)      #ye normal loop ha dpended nh ha"
   ]
  },
  {
   "cell_type": "code",
   "execution_count": null,
   "metadata": {},
   "outputs": [],
   "source": [
    "for a in range(10):\n",
    "    for b in ['a','b','c','v' ]:\n",
    "     print(a,b,end= \" \\t\")"
   ]
  },
  {
   "cell_type": "code",
   "execution_count": 2,
   "metadata": {},
   "outputs": [
    {
     "name": "stdout",
     "output_type": "stream",
     "text": [
      "Enter Your number6\n",
      "0 a \t0 b \t0 c \t0 v \t1 a \t1 b \t1 c \t1 v \t2 a \t2 b \t2 c \t2 v \t3 a \t3 b \t3 c \t3 v \t4 a \t4 b \t4 c \t4 v \t5 a \t5 b \t5 c \t5 v \t"
     ]
    }
   ],
   "source": [
    "a = int(input(\"Enter Your number\"))\n",
    "for c in range(a):\n",
    "    for b in ['a','b','c','v' ]:\n",
    "    print(c,b,end= \" \\t\")"
   ]
  },
  {
   "cell_type": "code",
   "execution_count": 3,
   "metadata": {},
   "outputs": [
    {
     "name": "stdout",
     "output_type": "stream",
     "text": [
      "enter your number5\n",
      "0 a \t0 b \t0 c \t0 v \t1 a \t1 b \t1 c \t1 v \t2 a \t2 b \t2 c \t2 v \t3 a \t3 b \t3 c \t3 v \t4 a \t4 b \t4 c \t4 v \t"
     ]
    }
   ],
   "source": [
    "a = int(input(\"enter your number\"))\n",
    "for c in range(a):\n",
    "    for b in ['a','b','c','v' ]:\n",
    "        print(c,b,end= \" \\t\")"
   ]
  },
  {
   "cell_type": "code",
   "execution_count": 12,
   "metadata": {},
   "outputs": [
    {
     "name": "stdout",
     "output_type": "stream",
     "text": [
      "*********\n",
      "2* 1 = 2\n",
      "2* 2 = 4\n",
      "2* 3 = 6\n",
      "2* 4 = 8\n",
      "2* 5 = 10\n",
      "2* 6 = 12\n",
      "2* 7 = 14\n",
      "2* 8 = 16\n",
      "2* 9 = 18\n",
      "2* 10 = 20\n",
      "*********\n",
      "3* 1 = 3\n",
      "3* 2 = 6\n",
      "3* 3 = 9\n",
      "3* 4 = 12\n",
      "3* 5 = 15\n",
      "3* 6 = 18\n",
      "3* 7 = 21\n",
      "3* 8 = 24\n",
      "3* 9 = 27\n",
      "3* 10 = 30\n",
      "*********\n",
      "4* 1 = 4\n",
      "4* 2 = 8\n",
      "4* 3 = 12\n",
      "4* 4 = 16\n",
      "4* 5 = 20\n",
      "4* 6 = 24\n",
      "4* 7 = 28\n",
      "4* 8 = 32\n",
      "4* 9 = 36\n",
      "4* 10 = 40\n",
      "*********\n",
      "5* 1 = 5\n",
      "5* 2 = 10\n",
      "5* 3 = 15\n",
      "5* 4 = 20\n",
      "5* 5 = 25\n",
      "5* 6 = 30\n",
      "5* 7 = 35\n",
      "5* 8 = 40\n",
      "5* 9 = 45\n",
      "5* 10 = 50\n",
      "*********\n",
      "6* 1 = 6\n",
      "6* 2 = 12\n",
      "6* 3 = 18\n",
      "6* 4 = 24\n",
      "6* 5 = 30\n",
      "6* 6 = 36\n",
      "6* 7 = 42\n",
      "6* 8 = 48\n",
      "6* 9 = 54\n",
      "6* 10 = 60\n",
      "*********\n",
      "7* 1 = 7\n",
      "7* 2 = 14\n",
      "7* 3 = 21\n",
      "7* 4 = 28\n",
      "7* 5 = 35\n",
      "7* 6 = 42\n",
      "7* 7 = 49\n",
      "7* 8 = 56\n",
      "7* 9 = 63\n",
      "7* 10 = 70\n",
      "*********\n",
      "8* 1 = 8\n",
      "8* 2 = 16\n",
      "8* 3 = 24\n",
      "8* 4 = 32\n",
      "8* 5 = 40\n",
      "8* 6 = 48\n",
      "8* 7 = 56\n",
      "8* 8 = 64\n",
      "8* 9 = 72\n",
      "8* 10 = 80\n",
      "*********\n",
      "9* 1 = 9\n",
      "9* 2 = 18\n",
      "9* 3 = 27\n",
      "9* 4 = 36\n",
      "9* 5 = 45\n",
      "9* 6 = 54\n",
      "9* 7 = 63\n",
      "9* 8 = 72\n",
      "9* 9 = 81\n",
      "9* 10 = 90\n",
      "*********\n",
      "10* 1 = 10\n",
      "10* 2 = 20\n",
      "10* 3 = 30\n",
      "10* 4 = 40\n",
      "10* 5 = 50\n",
      "10* 6 = 60\n",
      "10* 7 = 70\n",
      "10* 8 = 80\n",
      "10* 9 = 90\n",
      "10* 10 = 100\n"
     ]
    }
   ],
   "source": [
    "for table in range(2,11):\n",
    "    print(\"*********\")\n",
    "    for counter in range(1,11):\n",
    "        print(f\"{table}* {counter} = {table*counter}\")"
   ]
  },
  {
   "cell_type": "code",
   "execution_count": 13,
   "metadata": {},
   "outputs": [
    {
     "name": "stdout",
     "output_type": "stream",
     "text": [
      "*********\n",
      "2* 1 = 2 2* 2 = 4 2* 3 = 6 2* 4 = 8 2* 5 = 10 2* 6 = 12 2* 7 = 14 2* 8 = 16 2* 9 = 18 2* 10 = 20 *********\n",
      "3* 1 = 3 3* 2 = 6 3* 3 = 9 3* 4 = 12 3* 5 = 15 3* 6 = 18 3* 7 = 21 3* 8 = 24 3* 9 = 27 3* 10 = 30 *********\n",
      "4* 1 = 4 4* 2 = 8 4* 3 = 12 4* 4 = 16 4* 5 = 20 4* 6 = 24 4* 7 = 28 4* 8 = 32 4* 9 = 36 4* 10 = 40 *********\n",
      "5* 1 = 5 5* 2 = 10 5* 3 = 15 5* 4 = 20 5* 5 = 25 5* 6 = 30 5* 7 = 35 5* 8 = 40 5* 9 = 45 5* 10 = 50 *********\n",
      "6* 1 = 6 6* 2 = 12 6* 3 = 18 6* 4 = 24 6* 5 = 30 6* 6 = 36 6* 7 = 42 6* 8 = 48 6* 9 = 54 6* 10 = 60 *********\n",
      "7* 1 = 7 7* 2 = 14 7* 3 = 21 7* 4 = 28 7* 5 = 35 7* 6 = 42 7* 7 = 49 7* 8 = 56 7* 9 = 63 7* 10 = 70 *********\n",
      "8* 1 = 8 8* 2 = 16 8* 3 = 24 8* 4 = 32 8* 5 = 40 8* 6 = 48 8* 7 = 56 8* 8 = 64 8* 9 = 72 8* 10 = 80 *********\n",
      "9* 1 = 9 9* 2 = 18 9* 3 = 27 9* 4 = 36 9* 5 = 45 9* 6 = 54 9* 7 = 63 9* 8 = 72 9* 9 = 81 9* 10 = 90 *********\n",
      "10* 1 = 10 10* 2 = 20 10* 3 = 30 10* 4 = 40 10* 5 = 50 10* 6 = 60 10* 7 = 70 10* 8 = 80 10* 9 = 90 10* 10 = 100 "
     ]
    }
   ],
   "source": [
    "for table in range(2,11):\n",
    "    print(\"*********\")\n",
    "    for counter in range(1,11):\n",
    "        print(f\"{table}* {counter} = {table*counter}\",end=\" \")"
   ]
  },
  {
   "cell_type": "code",
   "execution_count": null,
   "metadata": {},
   "outputs": [],
   "source": []
  }
 ],
 "metadata": {
  "kernelspec": {
   "display_name": "Python 3",
   "language": "python",
   "name": "python3"
  },
  "language_info": {
   "codemirror_mode": {
    "name": "ipython",
    "version": 3
   },
   "file_extension": ".py",
   "mimetype": "text/x-python",
   "name": "python",
   "nbconvert_exporter": "python",
   "pygments_lexer": "ipython3",
   "version": "3.7.3"
  }
 },
 "nbformat": 4,
 "nbformat_minor": 2
}
